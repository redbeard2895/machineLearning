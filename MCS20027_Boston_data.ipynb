{
 "cells": [
  {
   "cell_type": "markdown",
   "metadata": {},
   "source": [
    "### Importing libraries"
   ]
  },
  {
   "cell_type": "code",
   "execution_count": 1,
   "metadata": {},
   "outputs": [],
   "source": [
    "import pandas as pd\n",
    "import numpy as np\n",
    "\n",
    "import matplotlib.pyplot as plt\n",
    "import seaborn as sns"
   ]
  },
  {
   "cell_type": "markdown",
   "metadata": {},
   "source": [
    "### Importing the data in a Pandas dataframe"
   ]
  },
  {
   "cell_type": "code",
   "execution_count": 2,
   "metadata": {},
   "outputs": [],
   "source": [
    "df = pd.read_csv('bostondata.csv')"
   ]
  },
  {
   "cell_type": "markdown",
   "metadata": {},
   "source": [
    "### Viewing the data and analyzing the dataset"
   ]
  },
  {
   "cell_type": "code",
   "execution_count": 3,
   "metadata": {},
   "outputs": [
    {
     "data": {
      "text/plain": [
       "(506, 14)"
      ]
     },
     "execution_count": 3,
     "metadata": {},
     "output_type": "execute_result"
    }
   ],
   "source": [
    "df.shape"
   ]
  },
  {
   "cell_type": "code",
   "execution_count": 4,
   "metadata": {},
   "outputs": [
    {
     "data": {
      "text/html": [
       "<div>\n",
       "<style scoped>\n",
       "    .dataframe tbody tr th:only-of-type {\n",
       "        vertical-align: middle;\n",
       "    }\n",
       "\n",
       "    .dataframe tbody tr th {\n",
       "        vertical-align: top;\n",
       "    }\n",
       "\n",
       "    .dataframe thead th {\n",
       "        text-align: right;\n",
       "    }\n",
       "</style>\n",
       "<table border=\"1\" class=\"dataframe\">\n",
       "  <thead>\n",
       "    <tr style=\"text-align: right;\">\n",
       "      <th></th>\n",
       "      <th>CRIM</th>\n",
       "      <th>ZN</th>\n",
       "      <th>INDUS</th>\n",
       "      <th>CHAS</th>\n",
       "      <th>NOX</th>\n",
       "      <th>RM</th>\n",
       "      <th>AGE</th>\n",
       "      <th>DIS</th>\n",
       "      <th>RAD</th>\n",
       "      <th>TAX</th>\n",
       "      <th>PT</th>\n",
       "      <th>B</th>\n",
       "      <th>LSTAT</th>\n",
       "      <th>MV</th>\n",
       "    </tr>\n",
       "  </thead>\n",
       "  <tbody>\n",
       "    <tr>\n",
       "      <th>0</th>\n",
       "      <td>0.00632</td>\n",
       "      <td>18</td>\n",
       "      <td>2.31</td>\n",
       "      <td>0</td>\n",
       "      <td>0.538</td>\n",
       "      <td>6.575</td>\n",
       "      <td>65.199997</td>\n",
       "      <td>4.0900</td>\n",
       "      <td>1</td>\n",
       "      <td>296</td>\n",
       "      <td>15.300000</td>\n",
       "      <td>396.899994</td>\n",
       "      <td>4.98</td>\n",
       "      <td>24.000000</td>\n",
       "    </tr>\n",
       "    <tr>\n",
       "      <th>1</th>\n",
       "      <td>0.02731</td>\n",
       "      <td>0</td>\n",
       "      <td>7.07</td>\n",
       "      <td>0</td>\n",
       "      <td>0.469</td>\n",
       "      <td>6.421</td>\n",
       "      <td>78.900002</td>\n",
       "      <td>4.9671</td>\n",
       "      <td>2</td>\n",
       "      <td>242</td>\n",
       "      <td>17.799999</td>\n",
       "      <td>396.899994</td>\n",
       "      <td>9.14</td>\n",
       "      <td>21.600000</td>\n",
       "    </tr>\n",
       "    <tr>\n",
       "      <th>2</th>\n",
       "      <td>0.02729</td>\n",
       "      <td>0</td>\n",
       "      <td>7.07</td>\n",
       "      <td>0</td>\n",
       "      <td>0.469</td>\n",
       "      <td>7.185</td>\n",
       "      <td>61.099998</td>\n",
       "      <td>4.9671</td>\n",
       "      <td>2</td>\n",
       "      <td>242</td>\n",
       "      <td>17.799999</td>\n",
       "      <td>392.829987</td>\n",
       "      <td>4.03</td>\n",
       "      <td>34.700001</td>\n",
       "    </tr>\n",
       "    <tr>\n",
       "      <th>3</th>\n",
       "      <td>0.03237</td>\n",
       "      <td>0</td>\n",
       "      <td>2.18</td>\n",
       "      <td>0</td>\n",
       "      <td>0.458</td>\n",
       "      <td>6.998</td>\n",
       "      <td>45.799999</td>\n",
       "      <td>6.0622</td>\n",
       "      <td>3</td>\n",
       "      <td>222</td>\n",
       "      <td>18.700001</td>\n",
       "      <td>394.630005</td>\n",
       "      <td>2.94</td>\n",
       "      <td>33.400002</td>\n",
       "    </tr>\n",
       "    <tr>\n",
       "      <th>4</th>\n",
       "      <td>0.06905</td>\n",
       "      <td>0</td>\n",
       "      <td>2.18</td>\n",
       "      <td>0</td>\n",
       "      <td>0.458</td>\n",
       "      <td>7.147</td>\n",
       "      <td>54.200001</td>\n",
       "      <td>6.0622</td>\n",
       "      <td>3</td>\n",
       "      <td>222</td>\n",
       "      <td>18.700001</td>\n",
       "      <td>396.899994</td>\n",
       "      <td>5.33</td>\n",
       "      <td>36.200001</td>\n",
       "    </tr>\n",
       "  </tbody>\n",
       "</table>\n",
       "</div>"
      ],
      "text/plain": [
       "      CRIM  ZN  INDUS CHAS    NOX     RM        AGE     DIS RAD  TAX  \\\n",
       "0  0.00632  18   2.31    0  0.538  6.575  65.199997  4.0900   1  296   \n",
       "1  0.02731   0   7.07    0  0.469  6.421  78.900002  4.9671   2  242   \n",
       "2  0.02729   0   7.07    0  0.469  7.185  61.099998  4.9671   2  242   \n",
       "3  0.03237   0   2.18    0  0.458  6.998  45.799999  6.0622   3  222   \n",
       "4  0.06905   0   2.18    0  0.458  7.147  54.200001  6.0622   3  222   \n",
       "\n",
       "          PT           B  LSTAT         MV  \n",
       "0  15.300000  396.899994   4.98  24.000000  \n",
       "1  17.799999  396.899994   9.14  21.600000  \n",
       "2  17.799999  392.829987   4.03  34.700001  \n",
       "3  18.700001  394.630005   2.94  33.400002  \n",
       "4  18.700001  396.899994   5.33  36.200001  "
      ]
     },
     "execution_count": 4,
     "metadata": {},
     "output_type": "execute_result"
    }
   ],
   "source": [
    "df.head(n = 5)"
   ]
  },
  {
   "cell_type": "code",
   "execution_count": 5,
   "metadata": {},
   "outputs": [
    {
     "data": {
      "text/html": [
       "<div>\n",
       "<style scoped>\n",
       "    .dataframe tbody tr th:only-of-type {\n",
       "        vertical-align: middle;\n",
       "    }\n",
       "\n",
       "    .dataframe tbody tr th {\n",
       "        vertical-align: top;\n",
       "    }\n",
       "\n",
       "    .dataframe thead th {\n",
       "        text-align: right;\n",
       "    }\n",
       "</style>\n",
       "<table border=\"1\" class=\"dataframe\">\n",
       "  <thead>\n",
       "    <tr style=\"text-align: right;\">\n",
       "      <th></th>\n",
       "      <th>CRIM</th>\n",
       "      <th>ZN</th>\n",
       "      <th>INDUS</th>\n",
       "      <th>CHAS</th>\n",
       "      <th>NOX</th>\n",
       "      <th>RM</th>\n",
       "      <th>AGE</th>\n",
       "      <th>DIS</th>\n",
       "      <th>RAD</th>\n",
       "      <th>TAX</th>\n",
       "      <th>PT</th>\n",
       "      <th>B</th>\n",
       "      <th>LSTAT</th>\n",
       "      <th>MV</th>\n",
       "    </tr>\n",
       "  </thead>\n",
       "  <tbody>\n",
       "    <tr>\n",
       "      <th>500</th>\n",
       "      <td>0.22438</td>\n",
       "      <td>0</td>\n",
       "      <td>9.69</td>\n",
       "      <td>0</td>\n",
       "      <td>0.585</td>\n",
       "      <td>6.027</td>\n",
       "      <td>79.699997</td>\n",
       "      <td>2.4982</td>\n",
       "      <td>6</td>\n",
       "      <td>391</td>\n",
       "      <td>19.200001</td>\n",
       "      <td>396.899994</td>\n",
       "      <td>14.33</td>\n",
       "      <td>16.799999</td>\n",
       "    </tr>\n",
       "    <tr>\n",
       "      <th>501</th>\n",
       "      <td>0.06263</td>\n",
       "      <td>0</td>\n",
       "      <td>11.93</td>\n",
       "      <td>0</td>\n",
       "      <td>0.573</td>\n",
       "      <td>6.593</td>\n",
       "      <td>69.099998</td>\n",
       "      <td>2.4786</td>\n",
       "      <td>1</td>\n",
       "      <td>273</td>\n",
       "      <td>21.000000</td>\n",
       "      <td>391.989990</td>\n",
       "      <td>9.67</td>\n",
       "      <td>22.400000</td>\n",
       "    </tr>\n",
       "    <tr>\n",
       "      <th>502</th>\n",
       "      <td>0.04527</td>\n",
       "      <td>0</td>\n",
       "      <td>11.93</td>\n",
       "      <td>0</td>\n",
       "      <td>0.573</td>\n",
       "      <td>6.120</td>\n",
       "      <td>76.699997</td>\n",
       "      <td>2.2875</td>\n",
       "      <td>1</td>\n",
       "      <td>273</td>\n",
       "      <td>21.000000</td>\n",
       "      <td>396.899994</td>\n",
       "      <td>9.08</td>\n",
       "      <td>20.600000</td>\n",
       "    </tr>\n",
       "    <tr>\n",
       "      <th>503</th>\n",
       "      <td>0.06076</td>\n",
       "      <td>0</td>\n",
       "      <td>11.93</td>\n",
       "      <td>0</td>\n",
       "      <td>0.573</td>\n",
       "      <td>6.976</td>\n",
       "      <td>91.000000</td>\n",
       "      <td>2.1675</td>\n",
       "      <td>1</td>\n",
       "      <td>273</td>\n",
       "      <td>21.000000</td>\n",
       "      <td>396.899994</td>\n",
       "      <td>5.64</td>\n",
       "      <td>23.900000</td>\n",
       "    </tr>\n",
       "    <tr>\n",
       "      <th>504</th>\n",
       "      <td>0.10959</td>\n",
       "      <td>0</td>\n",
       "      <td>11.93</td>\n",
       "      <td>0</td>\n",
       "      <td>0.573</td>\n",
       "      <td>6.794</td>\n",
       "      <td>89.300003</td>\n",
       "      <td>2.3889</td>\n",
       "      <td>1</td>\n",
       "      <td>273</td>\n",
       "      <td>21.000000</td>\n",
       "      <td>393.450012</td>\n",
       "      <td>6.48</td>\n",
       "      <td>22.000000</td>\n",
       "    </tr>\n",
       "    <tr>\n",
       "      <th>505</th>\n",
       "      <td>0.04741</td>\n",
       "      <td>0</td>\n",
       "      <td>11.93</td>\n",
       "      <td>0</td>\n",
       "      <td>0.573</td>\n",
       "      <td>6.030</td>\n",
       "      <td>80.800003</td>\n",
       "      <td>2.5050</td>\n",
       "      <td>1</td>\n",
       "      <td>273</td>\n",
       "      <td>21.000000</td>\n",
       "      <td>396.899994</td>\n",
       "      <td>7.88</td>\n",
       "      <td>11.900000</td>\n",
       "    </tr>\n",
       "  </tbody>\n",
       "</table>\n",
       "</div>"
      ],
      "text/plain": [
       "        CRIM ZN  INDUS CHAS    NOX     RM        AGE     DIS RAD  TAX  \\\n",
       "500  0.22438  0   9.69    0  0.585  6.027  79.699997  2.4982   6  391   \n",
       "501  0.06263  0  11.93    0  0.573  6.593  69.099998  2.4786   1  273   \n",
       "502  0.04527  0  11.93    0  0.573  6.120  76.699997  2.2875   1  273   \n",
       "503  0.06076  0  11.93    0  0.573  6.976  91.000000  2.1675   1  273   \n",
       "504  0.10959  0  11.93    0  0.573  6.794  89.300003  2.3889   1  273   \n",
       "505  0.04741  0  11.93    0  0.573  6.030  80.800003  2.5050   1  273   \n",
       "\n",
       "            PT           B  LSTAT         MV  \n",
       "500  19.200001  396.899994  14.33  16.799999  \n",
       "501  21.000000  391.989990   9.67  22.400000  \n",
       "502  21.000000  396.899994   9.08  20.600000  \n",
       "503  21.000000  396.899994   5.64  23.900000  \n",
       "504  21.000000  393.450012   6.48  22.000000  \n",
       "505  21.000000  396.899994   7.88  11.900000  "
      ]
     },
     "execution_count": 5,
     "metadata": {},
     "output_type": "execute_result"
    }
   ],
   "source": [
    "df.tail(n=6)"
   ]
  },
  {
   "cell_type": "code",
   "execution_count": 6,
   "metadata": {},
   "outputs": [],
   "source": [
    "#  From the above slices, the columns ZN,CHAS,RAD and seem to be discrete\n",
    "#  while all other variables are continuous"
   ]
  },
  {
   "cell_type": "code",
   "execution_count": 7,
   "metadata": {},
   "outputs": [
    {
     "data": {
      "text/plain": [
       "CRIM     float64\n",
       "ZN        object\n",
       "INDUS    float64\n",
       "CHAS      object\n",
       "NOX      float64\n",
       "RM       float64\n",
       "AGE      float64\n",
       "DIS      float64\n",
       "RAD       object\n",
       "TAX        int64\n",
       "PT       float64\n",
       "B        float64\n",
       "LSTAT    float64\n",
       "MV       float64\n",
       "dtype: object"
      ]
     },
     "execution_count": 7,
     "metadata": {},
     "output_type": "execute_result"
    }
   ],
   "source": [
    "df.dtypes"
   ]
  },
  {
   "cell_type": "code",
   "execution_count": 8,
   "metadata": {},
   "outputs": [],
   "source": [
    "#  ZN,CHAS and RAD seem to contain only numeric values but their type is 'object' indicating the presence\n",
    "#  of garbage values"
   ]
  },
  {
   "cell_type": "markdown",
   "metadata": {},
   "source": [
    "### Removing unwanted characters"
   ]
  },
  {
   "cell_type": "code",
   "execution_count": 9,
   "metadata": {},
   "outputs": [
    {
     "data": {
      "text/plain": [
       "array(['18', '0', '12.5', '#', '75', '21', '90', '85', '100', '25',\n",
       "       '17.5', '80', '28', '45', '60', '95', '82.5', '30', '22', '20',\n",
       "       '40', '55', '52.5', '70', '34', '33', '35'], dtype=object)"
      ]
     },
     "execution_count": 9,
     "metadata": {},
     "output_type": "execute_result"
    }
   ],
   "source": [
    "df['ZN'].unique()"
   ]
  },
  {
   "cell_type": "code",
   "execution_count": 10,
   "metadata": {},
   "outputs": [],
   "source": [
    "#  ZN is also a continuous variable"
   ]
  },
  {
   "cell_type": "code",
   "execution_count": 11,
   "metadata": {},
   "outputs": [
    {
     "data": {
      "text/plain": [
       "0       372\n",
       "20       21\n",
       "80       15\n",
       "22       10\n",
       "25       10\n",
       "12.5      9\n",
       "40        7\n",
       "45        6\n",
       "30        6\n",
       "90        5\n",
       "21        4\n",
       "95        4\n",
       "33        4\n",
       "60        4\n",
       "52.5      3\n",
       "35        3\n",
       "75        3\n",
       "34        3\n",
       "55        3\n",
       "28        3\n",
       "70        3\n",
       "82.5      2\n",
       "85        2\n",
       "100       1\n",
       "#         1\n",
       "17.5      1\n",
       "18        1\n",
       "Name: ZN, dtype: int64"
      ]
     },
     "execution_count": 11,
     "metadata": {},
     "output_type": "execute_result"
    }
   ],
   "source": [
    "df[\"ZN\"].value_counts()"
   ]
  },
  {
   "cell_type": "code",
   "execution_count": 12,
   "metadata": {},
   "outputs": [
    {
     "data": {
      "text/html": [
       "<div>\n",
       "<style scoped>\n",
       "    .dataframe tbody tr th:only-of-type {\n",
       "        vertical-align: middle;\n",
       "    }\n",
       "\n",
       "    .dataframe tbody tr th {\n",
       "        vertical-align: top;\n",
       "    }\n",
       "\n",
       "    .dataframe thead th {\n",
       "        text-align: right;\n",
       "    }\n",
       "</style>\n",
       "<table border=\"1\" class=\"dataframe\">\n",
       "  <thead>\n",
       "    <tr style=\"text-align: right;\">\n",
       "      <th></th>\n",
       "      <th>CRIM</th>\n",
       "      <th>ZN</th>\n",
       "      <th>INDUS</th>\n",
       "      <th>CHAS</th>\n",
       "      <th>NOX</th>\n",
       "      <th>RM</th>\n",
       "      <th>AGE</th>\n",
       "      <th>DIS</th>\n",
       "      <th>RAD</th>\n",
       "      <th>TAX</th>\n",
       "      <th>PT</th>\n",
       "      <th>B</th>\n",
       "      <th>LSTAT</th>\n",
       "      <th>MV</th>\n",
       "    </tr>\n",
       "  </thead>\n",
       "  <tbody>\n",
       "    <tr>\n",
       "      <th>7</th>\n",
       "      <td>0.14455</td>\n",
       "      <td>#</td>\n",
       "      <td>7.87</td>\n",
       "      <td>0</td>\n",
       "      <td>0.524</td>\n",
       "      <td>6.172</td>\n",
       "      <td>96.099998</td>\n",
       "      <td>5.9505</td>\n",
       "      <td>5</td>\n",
       "      <td>311</td>\n",
       "      <td>15.2</td>\n",
       "      <td>396.899994</td>\n",
       "      <td>19.15</td>\n",
       "      <td>27.1</td>\n",
       "    </tr>\n",
       "  </tbody>\n",
       "</table>\n",
       "</div>"
      ],
      "text/plain": [
       "      CRIM ZN  INDUS CHAS    NOX     RM        AGE     DIS RAD  TAX    PT  \\\n",
       "7  0.14455  #   7.87    0  0.524  6.172  96.099998  5.9505   5  311  15.2   \n",
       "\n",
       "            B  LSTAT    MV  \n",
       "7  396.899994  19.15  27.1  "
      ]
     },
     "execution_count": 12,
     "metadata": {},
     "output_type": "execute_result"
    }
   ],
   "source": [
    "df[df['ZN'] == '#' ]"
   ]
  },
  {
   "cell_type": "code",
   "execution_count": 13,
   "metadata": {},
   "outputs": [],
   "source": [
    "df = df[df['ZN'] != '#']"
   ]
  },
  {
   "cell_type": "code",
   "execution_count": 14,
   "metadata": {},
   "outputs": [
    {
     "data": {
      "text/plain": [
       "array(['1', '2', '3', '5', '4', '#', '8', '6', '7', '24'], dtype=object)"
      ]
     },
     "execution_count": 14,
     "metadata": {},
     "output_type": "execute_result"
    }
   ],
   "source": [
    "df['RAD'].unique()"
   ]
  },
  {
   "cell_type": "code",
   "execution_count": 15,
   "metadata": {},
   "outputs": [
    {
     "data": {
      "text/plain": [
       "24    132\n",
       "5     114\n",
       "4     109\n",
       "3      38\n",
       "6      26\n",
       "8      24\n",
       "2      24\n",
       "1      20\n",
       "7      17\n",
       "#       1\n",
       "Name: RAD, dtype: int64"
      ]
     },
     "execution_count": 15,
     "metadata": {},
     "output_type": "execute_result"
    }
   ],
   "source": [
    "df['RAD'].value_counts()"
   ]
  },
  {
   "cell_type": "code",
   "execution_count": 16,
   "metadata": {},
   "outputs": [],
   "source": [
    "df = df[df['RAD'] !='#']"
   ]
  },
  {
   "cell_type": "code",
   "execution_count": 17,
   "metadata": {},
   "outputs": [
    {
     "data": {
      "text/plain": [
       "array(['0', '?', '1'], dtype=object)"
      ]
     },
     "execution_count": 17,
     "metadata": {},
     "output_type": "execute_result"
    }
   ],
   "source": [
    "df['CHAS'].unique()"
   ]
  },
  {
   "cell_type": "code",
   "execution_count": 18,
   "metadata": {},
   "outputs": [
    {
     "data": {
      "text/plain": [
       "0    468\n",
       "1     35\n",
       "?      1\n",
       "Name: CHAS, dtype: int64"
      ]
     },
     "execution_count": 18,
     "metadata": {},
     "output_type": "execute_result"
    }
   ],
   "source": [
    "df['CHAS'].value_counts()"
   ]
  },
  {
   "cell_type": "code",
   "execution_count": 19,
   "metadata": {},
   "outputs": [],
   "source": [
    "df = df[df['CHAS'] != '?']"
   ]
  },
  {
   "cell_type": "code",
   "execution_count": 20,
   "metadata": {},
   "outputs": [],
   "source": [
    "df['ZN'] = df['ZN'].astype('float')\n",
    "df['RAD'] = df['RAD'].astype('int')\n",
    "df['CHAS']=df['CHAS'].astype('int')"
   ]
  },
  {
   "cell_type": "code",
   "execution_count": 21,
   "metadata": {},
   "outputs": [
    {
     "data": {
      "text/plain": [
       "(503, 14)"
      ]
     },
     "execution_count": 21,
     "metadata": {},
     "output_type": "execute_result"
    }
   ],
   "source": [
    "df.shape"
   ]
  },
  {
   "cell_type": "code",
   "execution_count": 22,
   "metadata": {},
   "outputs": [
    {
     "name": "stdout",
     "output_type": "stream",
     "text": [
      "<class 'pandas.core.frame.DataFrame'>\n",
      "Int64Index: 503 entries, 0 to 505\n",
      "Data columns (total 14 columns):\n",
      " #   Column  Non-Null Count  Dtype  \n",
      "---  ------  --------------  -----  \n",
      " 0   CRIM    503 non-null    float64\n",
      " 1   ZN      503 non-null    float64\n",
      " 2   INDUS   503 non-null    float64\n",
      " 3   CHAS    503 non-null    int32  \n",
      " 4   NOX     503 non-null    float64\n",
      " 5   RM      503 non-null    float64\n",
      " 6   AGE     503 non-null    float64\n",
      " 7   DIS     503 non-null    float64\n",
      " 8   RAD     503 non-null    int32  \n",
      " 9   TAX     503 non-null    int64  \n",
      " 10  PT      503 non-null    float64\n",
      " 11  B       503 non-null    float64\n",
      " 12  LSTAT   503 non-null    float64\n",
      " 13  MV      503 non-null    float64\n",
      "dtypes: float64(11), int32(2), int64(1)\n",
      "memory usage: 55.0 KB\n"
     ]
    }
   ],
   "source": [
    "df.info()   #  no columns should be integer type now "
   ]
  },
  {
   "cell_type": "markdown",
   "metadata": {},
   "source": [
    "### Taking Slices of the data"
   ]
  },
  {
   "cell_type": "code",
   "execution_count": 23,
   "metadata": {},
   "outputs": [
    {
     "data": {
      "text/html": [
       "<div>\n",
       "<style scoped>\n",
       "    .dataframe tbody tr th:only-of-type {\n",
       "        vertical-align: middle;\n",
       "    }\n",
       "\n",
       "    .dataframe tbody tr th {\n",
       "        vertical-align: top;\n",
       "    }\n",
       "\n",
       "    .dataframe thead th {\n",
       "        text-align: right;\n",
       "    }\n",
       "</style>\n",
       "<table border=\"1\" class=\"dataframe\">\n",
       "  <thead>\n",
       "    <tr style=\"text-align: right;\">\n",
       "      <th></th>\n",
       "      <th>RM</th>\n",
       "      <th>AGE</th>\n",
       "      <th>DIS</th>\n",
       "      <th>RAD</th>\n",
       "    </tr>\n",
       "  </thead>\n",
       "  <tbody>\n",
       "    <tr>\n",
       "      <th>238</th>\n",
       "      <td>6.481</td>\n",
       "      <td>18.500000</td>\n",
       "      <td>6.1899</td>\n",
       "      <td>6</td>\n",
       "    </tr>\n",
       "    <tr>\n",
       "      <th>239</th>\n",
       "      <td>6.606</td>\n",
       "      <td>42.200001</td>\n",
       "      <td>6.1899</td>\n",
       "      <td>6</td>\n",
       "    </tr>\n",
       "    <tr>\n",
       "      <th>240</th>\n",
       "      <td>6.897</td>\n",
       "      <td>54.299999</td>\n",
       "      <td>6.3361</td>\n",
       "      <td>6</td>\n",
       "    </tr>\n",
       "    <tr>\n",
       "      <th>241</th>\n",
       "      <td>6.095</td>\n",
       "      <td>65.099998</td>\n",
       "      <td>6.3361</td>\n",
       "      <td>6</td>\n",
       "    </tr>\n",
       "    <tr>\n",
       "      <th>242</th>\n",
       "      <td>6.358</td>\n",
       "      <td>52.900002</td>\n",
       "      <td>7.0355</td>\n",
       "      <td>6</td>\n",
       "    </tr>\n",
       "    <tr>\n",
       "      <th>243</th>\n",
       "      <td>6.393</td>\n",
       "      <td>7.800000</td>\n",
       "      <td>7.0355</td>\n",
       "      <td>6</td>\n",
       "    </tr>\n",
       "    <tr>\n",
       "      <th>244</th>\n",
       "      <td>5.593</td>\n",
       "      <td>76.500000</td>\n",
       "      <td>7.9549</td>\n",
       "      <td>7</td>\n",
       "    </tr>\n",
       "  </tbody>\n",
       "</table>\n",
       "</div>"
      ],
      "text/plain": [
       "        RM        AGE     DIS  RAD\n",
       "238  6.481  18.500000  6.1899    6\n",
       "239  6.606  42.200001  6.1899    6\n",
       "240  6.897  54.299999  6.3361    6\n",
       "241  6.095  65.099998  6.3361    6\n",
       "242  6.358  52.900002  7.0355    6\n",
       "243  6.393   7.800000  7.0355    6\n",
       "244  5.593  76.500000  7.9549    7"
      ]
     },
     "execution_count": 23,
     "metadata": {},
     "output_type": "execute_result"
    }
   ],
   "source": [
    "df.iloc[235:242,5:9]"
   ]
  },
  {
   "cell_type": "code",
   "execution_count": 24,
   "metadata": {},
   "outputs": [
    {
     "data": {
      "text/html": [
       "<div>\n",
       "<style scoped>\n",
       "    .dataframe tbody tr th:only-of-type {\n",
       "        vertical-align: middle;\n",
       "    }\n",
       "\n",
       "    .dataframe tbody tr th {\n",
       "        vertical-align: top;\n",
       "    }\n",
       "\n",
       "    .dataframe thead th {\n",
       "        text-align: right;\n",
       "    }\n",
       "</style>\n",
       "<table border=\"1\" class=\"dataframe\">\n",
       "  <thead>\n",
       "    <tr style=\"text-align: right;\">\n",
       "      <th></th>\n",
       "      <th>INDUS</th>\n",
       "      <th>CHAS</th>\n",
       "      <th>NOX</th>\n",
       "      <th>RM</th>\n",
       "      <th>AGE</th>\n",
       "      <th>DIS</th>\n",
       "      <th>RAD</th>\n",
       "      <th>TAX</th>\n",
       "    </tr>\n",
       "  </thead>\n",
       "  <tbody>\n",
       "    <tr>\n",
       "      <th>0</th>\n",
       "      <td>2.31</td>\n",
       "      <td>0</td>\n",
       "      <td>0.538</td>\n",
       "      <td>6.575</td>\n",
       "      <td>65.199997</td>\n",
       "      <td>4.0900</td>\n",
       "      <td>1</td>\n",
       "      <td>296</td>\n",
       "    </tr>\n",
       "    <tr>\n",
       "      <th>1</th>\n",
       "      <td>7.07</td>\n",
       "      <td>0</td>\n",
       "      <td>0.469</td>\n",
       "      <td>6.421</td>\n",
       "      <td>78.900002</td>\n",
       "      <td>4.9671</td>\n",
       "      <td>2</td>\n",
       "      <td>242</td>\n",
       "    </tr>\n",
       "    <tr>\n",
       "      <th>2</th>\n",
       "      <td>7.07</td>\n",
       "      <td>0</td>\n",
       "      <td>0.469</td>\n",
       "      <td>7.185</td>\n",
       "      <td>61.099998</td>\n",
       "      <td>4.9671</td>\n",
       "      <td>2</td>\n",
       "      <td>242</td>\n",
       "    </tr>\n",
       "    <tr>\n",
       "      <th>3</th>\n",
       "      <td>2.18</td>\n",
       "      <td>0</td>\n",
       "      <td>0.458</td>\n",
       "      <td>6.998</td>\n",
       "      <td>45.799999</td>\n",
       "      <td>6.0622</td>\n",
       "      <td>3</td>\n",
       "      <td>222</td>\n",
       "    </tr>\n",
       "    <tr>\n",
       "      <th>4</th>\n",
       "      <td>2.18</td>\n",
       "      <td>0</td>\n",
       "      <td>0.458</td>\n",
       "      <td>7.147</td>\n",
       "      <td>54.200001</td>\n",
       "      <td>6.0622</td>\n",
       "      <td>3</td>\n",
       "      <td>222</td>\n",
       "    </tr>\n",
       "    <tr>\n",
       "      <th>...</th>\n",
       "      <td>...</td>\n",
       "      <td>...</td>\n",
       "      <td>...</td>\n",
       "      <td>...</td>\n",
       "      <td>...</td>\n",
       "      <td>...</td>\n",
       "      <td>...</td>\n",
       "      <td>...</td>\n",
       "    </tr>\n",
       "    <tr>\n",
       "      <th>501</th>\n",
       "      <td>11.93</td>\n",
       "      <td>0</td>\n",
       "      <td>0.573</td>\n",
       "      <td>6.593</td>\n",
       "      <td>69.099998</td>\n",
       "      <td>2.4786</td>\n",
       "      <td>1</td>\n",
       "      <td>273</td>\n",
       "    </tr>\n",
       "    <tr>\n",
       "      <th>502</th>\n",
       "      <td>11.93</td>\n",
       "      <td>0</td>\n",
       "      <td>0.573</td>\n",
       "      <td>6.120</td>\n",
       "      <td>76.699997</td>\n",
       "      <td>2.2875</td>\n",
       "      <td>1</td>\n",
       "      <td>273</td>\n",
       "    </tr>\n",
       "    <tr>\n",
       "      <th>503</th>\n",
       "      <td>11.93</td>\n",
       "      <td>0</td>\n",
       "      <td>0.573</td>\n",
       "      <td>6.976</td>\n",
       "      <td>91.000000</td>\n",
       "      <td>2.1675</td>\n",
       "      <td>1</td>\n",
       "      <td>273</td>\n",
       "    </tr>\n",
       "    <tr>\n",
       "      <th>504</th>\n",
       "      <td>11.93</td>\n",
       "      <td>0</td>\n",
       "      <td>0.573</td>\n",
       "      <td>6.794</td>\n",
       "      <td>89.300003</td>\n",
       "      <td>2.3889</td>\n",
       "      <td>1</td>\n",
       "      <td>273</td>\n",
       "    </tr>\n",
       "    <tr>\n",
       "      <th>505</th>\n",
       "      <td>11.93</td>\n",
       "      <td>0</td>\n",
       "      <td>0.573</td>\n",
       "      <td>6.030</td>\n",
       "      <td>80.800003</td>\n",
       "      <td>2.5050</td>\n",
       "      <td>1</td>\n",
       "      <td>273</td>\n",
       "    </tr>\n",
       "  </tbody>\n",
       "</table>\n",
       "<p>503 rows × 8 columns</p>\n",
       "</div>"
      ],
      "text/plain": [
       "     INDUS  CHAS    NOX     RM        AGE     DIS  RAD  TAX\n",
       "0     2.31     0  0.538  6.575  65.199997  4.0900    1  296\n",
       "1     7.07     0  0.469  6.421  78.900002  4.9671    2  242\n",
       "2     7.07     0  0.469  7.185  61.099998  4.9671    2  242\n",
       "3     2.18     0  0.458  6.998  45.799999  6.0622    3  222\n",
       "4     2.18     0  0.458  7.147  54.200001  6.0622    3  222\n",
       "..     ...   ...    ...    ...        ...     ...  ...  ...\n",
       "501  11.93     0  0.573  6.593  69.099998  2.4786    1  273\n",
       "502  11.93     0  0.573  6.120  76.699997  2.2875    1  273\n",
       "503  11.93     0  0.573  6.976  91.000000  2.1675    1  273\n",
       "504  11.93     0  0.573  6.794  89.300003  2.3889    1  273\n",
       "505  11.93     0  0.573  6.030  80.800003  2.5050    1  273\n",
       "\n",
       "[503 rows x 8 columns]"
      ]
     },
     "execution_count": 24,
     "metadata": {},
     "output_type": "execute_result"
    }
   ],
   "source": [
    "df.iloc[:,2:10]"
   ]
  },
  {
   "cell_type": "markdown",
   "metadata": {},
   "source": [
    "### Selecting rows and columns based on conditions"
   ]
  },
  {
   "cell_type": "code",
   "execution_count": 25,
   "metadata": {},
   "outputs": [
    {
     "data": {
      "text/html": [
       "<div>\n",
       "<style scoped>\n",
       "    .dataframe tbody tr th:only-of-type {\n",
       "        vertical-align: middle;\n",
       "    }\n",
       "\n",
       "    .dataframe tbody tr th {\n",
       "        vertical-align: top;\n",
       "    }\n",
       "\n",
       "    .dataframe thead th {\n",
       "        text-align: right;\n",
       "    }\n",
       "</style>\n",
       "<table border=\"1\" class=\"dataframe\">\n",
       "  <thead>\n",
       "    <tr style=\"text-align: right;\">\n",
       "      <th></th>\n",
       "      <th>CRIM</th>\n",
       "      <th>ZN</th>\n",
       "      <th>INDUS</th>\n",
       "      <th>CHAS</th>\n",
       "      <th>NOX</th>\n",
       "      <th>RM</th>\n",
       "      <th>AGE</th>\n",
       "      <th>DIS</th>\n",
       "      <th>RAD</th>\n",
       "      <th>TAX</th>\n",
       "      <th>PT</th>\n",
       "      <th>B</th>\n",
       "      <th>LSTAT</th>\n",
       "      <th>MV</th>\n",
       "    </tr>\n",
       "  </thead>\n",
       "  <tbody>\n",
       "    <tr>\n",
       "      <th>380</th>\n",
       "      <td>88.976196</td>\n",
       "      <td>0.0</td>\n",
       "      <td>18.1</td>\n",
       "      <td>0</td>\n",
       "      <td>0.671</td>\n",
       "      <td>6.968</td>\n",
       "      <td>91.900002</td>\n",
       "      <td>1.4165</td>\n",
       "      <td>24</td>\n",
       "      <td>666</td>\n",
       "      <td>20.200001</td>\n",
       "      <td>396.899994</td>\n",
       "      <td>17.209999</td>\n",
       "      <td>10.4</td>\n",
       "    </tr>\n",
       "    <tr>\n",
       "      <th>405</th>\n",
       "      <td>67.920799</td>\n",
       "      <td>0.0</td>\n",
       "      <td>18.1</td>\n",
       "      <td>0</td>\n",
       "      <td>0.693</td>\n",
       "      <td>5.683</td>\n",
       "      <td>100.000000</td>\n",
       "      <td>1.4254</td>\n",
       "      <td>24</td>\n",
       "      <td>666</td>\n",
       "      <td>20.200001</td>\n",
       "      <td>384.970001</td>\n",
       "      <td>22.980000</td>\n",
       "      <td>5.0</td>\n",
       "    </tr>\n",
       "    <tr>\n",
       "      <th>410</th>\n",
       "      <td>51.135799</td>\n",
       "      <td>0.0</td>\n",
       "      <td>18.1</td>\n",
       "      <td>0</td>\n",
       "      <td>0.597</td>\n",
       "      <td>5.757</td>\n",
       "      <td>100.000000</td>\n",
       "      <td>1.4130</td>\n",
       "      <td>24</td>\n",
       "      <td>666</td>\n",
       "      <td>20.200001</td>\n",
       "      <td>2.600000</td>\n",
       "      <td>10.110000</td>\n",
       "      <td>15.0</td>\n",
       "    </tr>\n",
       "    <tr>\n",
       "      <th>418</th>\n",
       "      <td>73.534103</td>\n",
       "      <td>0.0</td>\n",
       "      <td>18.1</td>\n",
       "      <td>0</td>\n",
       "      <td>0.679</td>\n",
       "      <td>5.957</td>\n",
       "      <td>100.000000</td>\n",
       "      <td>1.8026</td>\n",
       "      <td>24</td>\n",
       "      <td>666</td>\n",
       "      <td>20.200001</td>\n",
       "      <td>16.450001</td>\n",
       "      <td>20.620001</td>\n",
       "      <td>8.8</td>\n",
       "    </tr>\n",
       "  </tbody>\n",
       "</table>\n",
       "</div>"
      ],
      "text/plain": [
       "          CRIM   ZN  INDUS  CHAS    NOX     RM         AGE     DIS  RAD  TAX  \\\n",
       "380  88.976196  0.0   18.1     0  0.671  6.968   91.900002  1.4165   24  666   \n",
       "405  67.920799  0.0   18.1     0  0.693  5.683  100.000000  1.4254   24  666   \n",
       "410  51.135799  0.0   18.1     0  0.597  5.757  100.000000  1.4130   24  666   \n",
       "418  73.534103  0.0   18.1     0  0.679  5.957  100.000000  1.8026   24  666   \n",
       "\n",
       "            PT           B      LSTAT    MV  \n",
       "380  20.200001  396.899994  17.209999  10.4  \n",
       "405  20.200001  384.970001  22.980000   5.0  \n",
       "410  20.200001    2.600000  10.110000  15.0  \n",
       "418  20.200001   16.450001  20.620001   8.8  "
      ]
     },
     "execution_count": 25,
     "metadata": {},
     "output_type": "execute_result"
    }
   ],
   "source": [
    "df[(df['CRIM'] > 50) & (df['DIS'] > 0)]"
   ]
  },
  {
   "cell_type": "code",
   "execution_count": 26,
   "metadata": {},
   "outputs": [
    {
     "data": {
      "text/html": [
       "<div>\n",
       "<style scoped>\n",
       "    .dataframe tbody tr th:only-of-type {\n",
       "        vertical-align: middle;\n",
       "    }\n",
       "\n",
       "    .dataframe tbody tr th {\n",
       "        vertical-align: top;\n",
       "    }\n",
       "\n",
       "    .dataframe thead th {\n",
       "        text-align: right;\n",
       "    }\n",
       "</style>\n",
       "<table border=\"1\" class=\"dataframe\">\n",
       "  <thead>\n",
       "    <tr style=\"text-align: right;\">\n",
       "      <th></th>\n",
       "      <th>CRIM</th>\n",
       "      <th>ZN</th>\n",
       "      <th>INDUS</th>\n",
       "      <th>CHAS</th>\n",
       "      <th>NOX</th>\n",
       "      <th>RM</th>\n",
       "      <th>AGE</th>\n",
       "      <th>DIS</th>\n",
       "      <th>RAD</th>\n",
       "      <th>TAX</th>\n",
       "      <th>PT</th>\n",
       "      <th>B</th>\n",
       "      <th>LSTAT</th>\n",
       "      <th>MV</th>\n",
       "    </tr>\n",
       "  </thead>\n",
       "  <tbody>\n",
       "    <tr>\n",
       "      <th>142</th>\n",
       "      <td>3.32105</td>\n",
       "      <td>0.0</td>\n",
       "      <td>19.58</td>\n",
       "      <td>1</td>\n",
       "      <td>0.871</td>\n",
       "      <td>5.403</td>\n",
       "      <td>100.000000</td>\n",
       "      <td>1.3216</td>\n",
       "      <td>5</td>\n",
       "      <td>403</td>\n",
       "      <td>14.700000</td>\n",
       "      <td>396.899994</td>\n",
       "      <td>26.820000</td>\n",
       "      <td>13.400000</td>\n",
       "    </tr>\n",
       "    <tr>\n",
       "      <th>152</th>\n",
       "      <td>1.12658</td>\n",
       "      <td>0.0</td>\n",
       "      <td>19.58</td>\n",
       "      <td>1</td>\n",
       "      <td>0.871</td>\n",
       "      <td>5.012</td>\n",
       "      <td>88.000000</td>\n",
       "      <td>1.6102</td>\n",
       "      <td>5</td>\n",
       "      <td>403</td>\n",
       "      <td>14.700000</td>\n",
       "      <td>343.279999</td>\n",
       "      <td>12.120000</td>\n",
       "      <td>15.300000</td>\n",
       "    </tr>\n",
       "    <tr>\n",
       "      <th>154</th>\n",
       "      <td>1.41385</td>\n",
       "      <td>0.0</td>\n",
       "      <td>19.58</td>\n",
       "      <td>1</td>\n",
       "      <td>0.871</td>\n",
       "      <td>6.129</td>\n",
       "      <td>96.000000</td>\n",
       "      <td>1.7494</td>\n",
       "      <td>5</td>\n",
       "      <td>403</td>\n",
       "      <td>14.700000</td>\n",
       "      <td>321.019989</td>\n",
       "      <td>15.120000</td>\n",
       "      <td>17.000000</td>\n",
       "    </tr>\n",
       "    <tr>\n",
       "      <th>155</th>\n",
       "      <td>3.53501</td>\n",
       "      <td>0.0</td>\n",
       "      <td>19.58</td>\n",
       "      <td>1</td>\n",
       "      <td>0.871</td>\n",
       "      <td>6.152</td>\n",
       "      <td>82.599998</td>\n",
       "      <td>1.7455</td>\n",
       "      <td>5</td>\n",
       "      <td>403</td>\n",
       "      <td>14.700000</td>\n",
       "      <td>88.010002</td>\n",
       "      <td>15.020000</td>\n",
       "      <td>15.600000</td>\n",
       "    </tr>\n",
       "    <tr>\n",
       "      <th>160</th>\n",
       "      <td>1.27346</td>\n",
       "      <td>0.0</td>\n",
       "      <td>19.58</td>\n",
       "      <td>1</td>\n",
       "      <td>0.605</td>\n",
       "      <td>6.250</td>\n",
       "      <td>92.599998</td>\n",
       "      <td>1.7984</td>\n",
       "      <td>5</td>\n",
       "      <td>403</td>\n",
       "      <td>14.700000</td>\n",
       "      <td>338.920013</td>\n",
       "      <td>5.500000</td>\n",
       "      <td>27.000000</td>\n",
       "    </tr>\n",
       "    <tr>\n",
       "      <th>162</th>\n",
       "      <td>1.83377</td>\n",
       "      <td>0.0</td>\n",
       "      <td>19.58</td>\n",
       "      <td>1</td>\n",
       "      <td>0.605</td>\n",
       "      <td>7.802</td>\n",
       "      <td>98.199997</td>\n",
       "      <td>2.0407</td>\n",
       "      <td>5</td>\n",
       "      <td>403</td>\n",
       "      <td>14.700000</td>\n",
       "      <td>389.609985</td>\n",
       "      <td>1.920000</td>\n",
       "      <td>50.000000</td>\n",
       "    </tr>\n",
       "    <tr>\n",
       "      <th>163</th>\n",
       "      <td>1.51902</td>\n",
       "      <td>0.0</td>\n",
       "      <td>19.58</td>\n",
       "      <td>1</td>\n",
       "      <td>0.605</td>\n",
       "      <td>8.375</td>\n",
       "      <td>93.900002</td>\n",
       "      <td>2.1620</td>\n",
       "      <td>5</td>\n",
       "      <td>403</td>\n",
       "      <td>14.700000</td>\n",
       "      <td>388.450012</td>\n",
       "      <td>3.320000</td>\n",
       "      <td>50.000000</td>\n",
       "    </tr>\n",
       "    <tr>\n",
       "      <th>208</th>\n",
       "      <td>0.13587</td>\n",
       "      <td>0.0</td>\n",
       "      <td>10.59</td>\n",
       "      <td>1</td>\n",
       "      <td>0.489</td>\n",
       "      <td>6.064</td>\n",
       "      <td>59.099998</td>\n",
       "      <td>4.2392</td>\n",
       "      <td>4</td>\n",
       "      <td>277</td>\n",
       "      <td>18.600000</td>\n",
       "      <td>381.320007</td>\n",
       "      <td>14.660000</td>\n",
       "      <td>24.400000</td>\n",
       "    </tr>\n",
       "    <tr>\n",
       "      <th>209</th>\n",
       "      <td>0.43571</td>\n",
       "      <td>0.0</td>\n",
       "      <td>10.59</td>\n",
       "      <td>1</td>\n",
       "      <td>0.489</td>\n",
       "      <td>5.344</td>\n",
       "      <td>100.000000</td>\n",
       "      <td>3.8750</td>\n",
       "      <td>4</td>\n",
       "      <td>277</td>\n",
       "      <td>18.600000</td>\n",
       "      <td>396.899994</td>\n",
       "      <td>23.090000</td>\n",
       "      <td>20.000000</td>\n",
       "    </tr>\n",
       "    <tr>\n",
       "      <th>210</th>\n",
       "      <td>0.17446</td>\n",
       "      <td>0.0</td>\n",
       "      <td>10.59</td>\n",
       "      <td>1</td>\n",
       "      <td>0.489</td>\n",
       "      <td>5.960</td>\n",
       "      <td>92.099998</td>\n",
       "      <td>3.8771</td>\n",
       "      <td>4</td>\n",
       "      <td>277</td>\n",
       "      <td>18.600000</td>\n",
       "      <td>393.250000</td>\n",
       "      <td>17.270000</td>\n",
       "      <td>21.700001</td>\n",
       "    </tr>\n",
       "    <tr>\n",
       "      <th>211</th>\n",
       "      <td>0.37578</td>\n",
       "      <td>0.0</td>\n",
       "      <td>10.59</td>\n",
       "      <td>1</td>\n",
       "      <td>0.489</td>\n",
       "      <td>5.404</td>\n",
       "      <td>88.599998</td>\n",
       "      <td>3.6650</td>\n",
       "      <td>4</td>\n",
       "      <td>277</td>\n",
       "      <td>18.600000</td>\n",
       "      <td>395.239990</td>\n",
       "      <td>23.980000</td>\n",
       "      <td>19.299999</td>\n",
       "    </tr>\n",
       "    <tr>\n",
       "      <th>212</th>\n",
       "      <td>0.21719</td>\n",
       "      <td>0.0</td>\n",
       "      <td>10.59</td>\n",
       "      <td>1</td>\n",
       "      <td>0.489</td>\n",
       "      <td>5.807</td>\n",
       "      <td>53.799999</td>\n",
       "      <td>3.6526</td>\n",
       "      <td>4</td>\n",
       "      <td>277</td>\n",
       "      <td>18.600000</td>\n",
       "      <td>390.940002</td>\n",
       "      <td>16.030001</td>\n",
       "      <td>22.400000</td>\n",
       "    </tr>\n",
       "    <tr>\n",
       "      <th>216</th>\n",
       "      <td>0.04560</td>\n",
       "      <td>0.0</td>\n",
       "      <td>13.89</td>\n",
       "      <td>1</td>\n",
       "      <td>0.550</td>\n",
       "      <td>5.888</td>\n",
       "      <td>56.000000</td>\n",
       "      <td>3.1121</td>\n",
       "      <td>5</td>\n",
       "      <td>276</td>\n",
       "      <td>16.400000</td>\n",
       "      <td>392.799988</td>\n",
       "      <td>13.510000</td>\n",
       "      <td>23.299999</td>\n",
       "    </tr>\n",
       "    <tr>\n",
       "      <th>218</th>\n",
       "      <td>0.11069</td>\n",
       "      <td>0.0</td>\n",
       "      <td>13.89</td>\n",
       "      <td>1</td>\n",
       "      <td>0.550</td>\n",
       "      <td>5.951</td>\n",
       "      <td>93.800003</td>\n",
       "      <td>2.8893</td>\n",
       "      <td>5</td>\n",
       "      <td>276</td>\n",
       "      <td>16.400000</td>\n",
       "      <td>396.899994</td>\n",
       "      <td>17.920000</td>\n",
       "      <td>21.500000</td>\n",
       "    </tr>\n",
       "    <tr>\n",
       "      <th>219</th>\n",
       "      <td>0.11425</td>\n",
       "      <td>0.0</td>\n",
       "      <td>13.89</td>\n",
       "      <td>1</td>\n",
       "      <td>0.550</td>\n",
       "      <td>6.373</td>\n",
       "      <td>92.400002</td>\n",
       "      <td>3.3633</td>\n",
       "      <td>5</td>\n",
       "      <td>276</td>\n",
       "      <td>16.400000</td>\n",
       "      <td>393.739990</td>\n",
       "      <td>10.500000</td>\n",
       "      <td>23.000000</td>\n",
       "    </tr>\n",
       "    <tr>\n",
       "      <th>220</th>\n",
       "      <td>0.35809</td>\n",
       "      <td>0.0</td>\n",
       "      <td>6.20</td>\n",
       "      <td>1</td>\n",
       "      <td>0.507</td>\n",
       "      <td>6.951</td>\n",
       "      <td>88.500000</td>\n",
       "      <td>2.8617</td>\n",
       "      <td>8</td>\n",
       "      <td>307</td>\n",
       "      <td>17.400000</td>\n",
       "      <td>391.700012</td>\n",
       "      <td>9.710000</td>\n",
       "      <td>26.700001</td>\n",
       "    </tr>\n",
       "    <tr>\n",
       "      <th>221</th>\n",
       "      <td>0.40771</td>\n",
       "      <td>0.0</td>\n",
       "      <td>6.20</td>\n",
       "      <td>1</td>\n",
       "      <td>0.507</td>\n",
       "      <td>6.164</td>\n",
       "      <td>91.300003</td>\n",
       "      <td>3.0480</td>\n",
       "      <td>8</td>\n",
       "      <td>307</td>\n",
       "      <td>17.400000</td>\n",
       "      <td>395.239990</td>\n",
       "      <td>21.459999</td>\n",
       "      <td>21.700001</td>\n",
       "    </tr>\n",
       "    <tr>\n",
       "      <th>222</th>\n",
       "      <td>0.62356</td>\n",
       "      <td>0.0</td>\n",
       "      <td>6.20</td>\n",
       "      <td>1</td>\n",
       "      <td>0.507</td>\n",
       "      <td>6.879</td>\n",
       "      <td>77.699997</td>\n",
       "      <td>3.2721</td>\n",
       "      <td>8</td>\n",
       "      <td>307</td>\n",
       "      <td>17.400000</td>\n",
       "      <td>390.390015</td>\n",
       "      <td>9.930000</td>\n",
       "      <td>27.500000</td>\n",
       "    </tr>\n",
       "    <tr>\n",
       "      <th>234</th>\n",
       "      <td>0.44791</td>\n",
       "      <td>0.0</td>\n",
       "      <td>6.20</td>\n",
       "      <td>1</td>\n",
       "      <td>0.507</td>\n",
       "      <td>6.726</td>\n",
       "      <td>66.500000</td>\n",
       "      <td>3.6519</td>\n",
       "      <td>8</td>\n",
       "      <td>307</td>\n",
       "      <td>17.400000</td>\n",
       "      <td>360.200012</td>\n",
       "      <td>8.050000</td>\n",
       "      <td>29.000000</td>\n",
       "    </tr>\n",
       "    <tr>\n",
       "      <th>236</th>\n",
       "      <td>0.52058</td>\n",
       "      <td>0.0</td>\n",
       "      <td>6.20</td>\n",
       "      <td>1</td>\n",
       "      <td>0.507</td>\n",
       "      <td>6.631</td>\n",
       "      <td>76.500000</td>\n",
       "      <td>4.1480</td>\n",
       "      <td>8</td>\n",
       "      <td>307</td>\n",
       "      <td>17.400000</td>\n",
       "      <td>388.450012</td>\n",
       "      <td>9.540000</td>\n",
       "      <td>25.100000</td>\n",
       "    </tr>\n",
       "    <tr>\n",
       "      <th>269</th>\n",
       "      <td>0.09065</td>\n",
       "      <td>20.0</td>\n",
       "      <td>6.96</td>\n",
       "      <td>1</td>\n",
       "      <td>0.464</td>\n",
       "      <td>5.920</td>\n",
       "      <td>61.500000</td>\n",
       "      <td>3.9175</td>\n",
       "      <td>3</td>\n",
       "      <td>223</td>\n",
       "      <td>18.600000</td>\n",
       "      <td>391.339996</td>\n",
       "      <td>13.650000</td>\n",
       "      <td>20.700001</td>\n",
       "    </tr>\n",
       "    <tr>\n",
       "      <th>273</th>\n",
       "      <td>0.22188</td>\n",
       "      <td>20.0</td>\n",
       "      <td>6.96</td>\n",
       "      <td>1</td>\n",
       "      <td>0.464</td>\n",
       "      <td>7.691</td>\n",
       "      <td>51.799999</td>\n",
       "      <td>4.3665</td>\n",
       "      <td>3</td>\n",
       "      <td>223</td>\n",
       "      <td>18.600000</td>\n",
       "      <td>390.769989</td>\n",
       "      <td>6.580000</td>\n",
       "      <td>35.200001</td>\n",
       "    </tr>\n",
       "    <tr>\n",
       "      <th>356</th>\n",
       "      <td>8.98296</td>\n",
       "      <td>0.0</td>\n",
       "      <td>18.10</td>\n",
       "      <td>1</td>\n",
       "      <td>0.770</td>\n",
       "      <td>6.212</td>\n",
       "      <td>97.400002</td>\n",
       "      <td>2.1222</td>\n",
       "      <td>24</td>\n",
       "      <td>666</td>\n",
       "      <td>20.200001</td>\n",
       "      <td>377.730011</td>\n",
       "      <td>17.600000</td>\n",
       "      <td>17.799999</td>\n",
       "    </tr>\n",
       "    <tr>\n",
       "      <th>357</th>\n",
       "      <td>3.84970</td>\n",
       "      <td>0.0</td>\n",
       "      <td>18.10</td>\n",
       "      <td>1</td>\n",
       "      <td>0.770</td>\n",
       "      <td>6.395</td>\n",
       "      <td>91.000000</td>\n",
       "      <td>2.5052</td>\n",
       "      <td>24</td>\n",
       "      <td>666</td>\n",
       "      <td>20.200001</td>\n",
       "      <td>391.339996</td>\n",
       "      <td>13.270000</td>\n",
       "      <td>21.700001</td>\n",
       "    </tr>\n",
       "    <tr>\n",
       "      <th>358</th>\n",
       "      <td>5.20177</td>\n",
       "      <td>0.0</td>\n",
       "      <td>18.10</td>\n",
       "      <td>1</td>\n",
       "      <td>0.770</td>\n",
       "      <td>6.127</td>\n",
       "      <td>83.400002</td>\n",
       "      <td>2.7227</td>\n",
       "      <td>24</td>\n",
       "      <td>666</td>\n",
       "      <td>20.200001</td>\n",
       "      <td>395.429993</td>\n",
       "      <td>11.480000</td>\n",
       "      <td>22.700001</td>\n",
       "    </tr>\n",
       "    <tr>\n",
       "      <th>363</th>\n",
       "      <td>4.22239</td>\n",
       "      <td>0.0</td>\n",
       "      <td>18.10</td>\n",
       "      <td>1</td>\n",
       "      <td>0.770</td>\n",
       "      <td>5.803</td>\n",
       "      <td>89.000000</td>\n",
       "      <td>1.9047</td>\n",
       "      <td>24</td>\n",
       "      <td>666</td>\n",
       "      <td>20.200001</td>\n",
       "      <td>353.040008</td>\n",
       "      <td>14.640000</td>\n",
       "      <td>16.799999</td>\n",
       "    </tr>\n",
       "    <tr>\n",
       "      <th>364</th>\n",
       "      <td>3.47428</td>\n",
       "      <td>0.0</td>\n",
       "      <td>18.10</td>\n",
       "      <td>1</td>\n",
       "      <td>0.718</td>\n",
       "      <td>8.780</td>\n",
       "      <td>82.900002</td>\n",
       "      <td>1.9047</td>\n",
       "      <td>24</td>\n",
       "      <td>666</td>\n",
       "      <td>20.200001</td>\n",
       "      <td>354.549988</td>\n",
       "      <td>5.290000</td>\n",
       "      <td>21.900000</td>\n",
       "    </tr>\n",
       "    <tr>\n",
       "      <th>369</th>\n",
       "      <td>5.66998</td>\n",
       "      <td>0.0</td>\n",
       "      <td>18.10</td>\n",
       "      <td>1</td>\n",
       "      <td>0.631</td>\n",
       "      <td>6.683</td>\n",
       "      <td>96.800003</td>\n",
       "      <td>1.3567</td>\n",
       "      <td>24</td>\n",
       "      <td>666</td>\n",
       "      <td>20.200001</td>\n",
       "      <td>375.329987</td>\n",
       "      <td>3.730000</td>\n",
       "      <td>50.000000</td>\n",
       "    </tr>\n",
       "    <tr>\n",
       "      <th>370</th>\n",
       "      <td>6.53876</td>\n",
       "      <td>0.0</td>\n",
       "      <td>18.10</td>\n",
       "      <td>1</td>\n",
       "      <td>0.631</td>\n",
       "      <td>7.016</td>\n",
       "      <td>97.500000</td>\n",
       "      <td>1.2024</td>\n",
       "      <td>24</td>\n",
       "      <td>666</td>\n",
       "      <td>20.200001</td>\n",
       "      <td>392.049988</td>\n",
       "      <td>2.960000</td>\n",
       "      <td>50.000000</td>\n",
       "    </tr>\n",
       "    <tr>\n",
       "      <th>372</th>\n",
       "      <td>8.26725</td>\n",
       "      <td>0.0</td>\n",
       "      <td>18.10</td>\n",
       "      <td>1</td>\n",
       "      <td>0.668</td>\n",
       "      <td>5.875</td>\n",
       "      <td>89.599998</td>\n",
       "      <td>1.1296</td>\n",
       "      <td>24</td>\n",
       "      <td>666</td>\n",
       "      <td>20.200001</td>\n",
       "      <td>347.880005</td>\n",
       "      <td>8.880000</td>\n",
       "      <td>50.000000</td>\n",
       "    </tr>\n",
       "  </tbody>\n",
       "</table>\n",
       "</div>"
      ],
      "text/plain": [
       "        CRIM    ZN  INDUS  CHAS    NOX     RM         AGE     DIS  RAD  TAX  \\\n",
       "142  3.32105   0.0  19.58     1  0.871  5.403  100.000000  1.3216    5  403   \n",
       "152  1.12658   0.0  19.58     1  0.871  5.012   88.000000  1.6102    5  403   \n",
       "154  1.41385   0.0  19.58     1  0.871  6.129   96.000000  1.7494    5  403   \n",
       "155  3.53501   0.0  19.58     1  0.871  6.152   82.599998  1.7455    5  403   \n",
       "160  1.27346   0.0  19.58     1  0.605  6.250   92.599998  1.7984    5  403   \n",
       "162  1.83377   0.0  19.58     1  0.605  7.802   98.199997  2.0407    5  403   \n",
       "163  1.51902   0.0  19.58     1  0.605  8.375   93.900002  2.1620    5  403   \n",
       "208  0.13587   0.0  10.59     1  0.489  6.064   59.099998  4.2392    4  277   \n",
       "209  0.43571   0.0  10.59     1  0.489  5.344  100.000000  3.8750    4  277   \n",
       "210  0.17446   0.0  10.59     1  0.489  5.960   92.099998  3.8771    4  277   \n",
       "211  0.37578   0.0  10.59     1  0.489  5.404   88.599998  3.6650    4  277   \n",
       "212  0.21719   0.0  10.59     1  0.489  5.807   53.799999  3.6526    4  277   \n",
       "216  0.04560   0.0  13.89     1  0.550  5.888   56.000000  3.1121    5  276   \n",
       "218  0.11069   0.0  13.89     1  0.550  5.951   93.800003  2.8893    5  276   \n",
       "219  0.11425   0.0  13.89     1  0.550  6.373   92.400002  3.3633    5  276   \n",
       "220  0.35809   0.0   6.20     1  0.507  6.951   88.500000  2.8617    8  307   \n",
       "221  0.40771   0.0   6.20     1  0.507  6.164   91.300003  3.0480    8  307   \n",
       "222  0.62356   0.0   6.20     1  0.507  6.879   77.699997  3.2721    8  307   \n",
       "234  0.44791   0.0   6.20     1  0.507  6.726   66.500000  3.6519    8  307   \n",
       "236  0.52058   0.0   6.20     1  0.507  6.631   76.500000  4.1480    8  307   \n",
       "269  0.09065  20.0   6.96     1  0.464  5.920   61.500000  3.9175    3  223   \n",
       "273  0.22188  20.0   6.96     1  0.464  7.691   51.799999  4.3665    3  223   \n",
       "356  8.98296   0.0  18.10     1  0.770  6.212   97.400002  2.1222   24  666   \n",
       "357  3.84970   0.0  18.10     1  0.770  6.395   91.000000  2.5052   24  666   \n",
       "358  5.20177   0.0  18.10     1  0.770  6.127   83.400002  2.7227   24  666   \n",
       "363  4.22239   0.0  18.10     1  0.770  5.803   89.000000  1.9047   24  666   \n",
       "364  3.47428   0.0  18.10     1  0.718  8.780   82.900002  1.9047   24  666   \n",
       "369  5.66998   0.0  18.10     1  0.631  6.683   96.800003  1.3567   24  666   \n",
       "370  6.53876   0.0  18.10     1  0.631  7.016   97.500000  1.2024   24  666   \n",
       "372  8.26725   0.0  18.10     1  0.668  5.875   89.599998  1.1296   24  666   \n",
       "\n",
       "            PT           B      LSTAT         MV  \n",
       "142  14.700000  396.899994  26.820000  13.400000  \n",
       "152  14.700000  343.279999  12.120000  15.300000  \n",
       "154  14.700000  321.019989  15.120000  17.000000  \n",
       "155  14.700000   88.010002  15.020000  15.600000  \n",
       "160  14.700000  338.920013   5.500000  27.000000  \n",
       "162  14.700000  389.609985   1.920000  50.000000  \n",
       "163  14.700000  388.450012   3.320000  50.000000  \n",
       "208  18.600000  381.320007  14.660000  24.400000  \n",
       "209  18.600000  396.899994  23.090000  20.000000  \n",
       "210  18.600000  393.250000  17.270000  21.700001  \n",
       "211  18.600000  395.239990  23.980000  19.299999  \n",
       "212  18.600000  390.940002  16.030001  22.400000  \n",
       "216  16.400000  392.799988  13.510000  23.299999  \n",
       "218  16.400000  396.899994  17.920000  21.500000  \n",
       "219  16.400000  393.739990  10.500000  23.000000  \n",
       "220  17.400000  391.700012   9.710000  26.700001  \n",
       "221  17.400000  395.239990  21.459999  21.700001  \n",
       "222  17.400000  390.390015   9.930000  27.500000  \n",
       "234  17.400000  360.200012   8.050000  29.000000  \n",
       "236  17.400000  388.450012   9.540000  25.100000  \n",
       "269  18.600000  391.339996  13.650000  20.700001  \n",
       "273  18.600000  390.769989   6.580000  35.200001  \n",
       "356  20.200001  377.730011  17.600000  17.799999  \n",
       "357  20.200001  391.339996  13.270000  21.700001  \n",
       "358  20.200001  395.429993  11.480000  22.700001  \n",
       "363  20.200001  353.040008  14.640000  16.799999  \n",
       "364  20.200001  354.549988   5.290000  21.900000  \n",
       "369  20.200001  375.329987   3.730000  50.000000  \n",
       "370  20.200001  392.049988   2.960000  50.000000  \n",
       "372  20.200001  347.880005   8.880000  50.000000  "
      ]
     },
     "execution_count": 26,
     "metadata": {},
     "output_type": "execute_result"
    }
   ],
   "source": [
    "df[(df['CHAS'] == 1) & (df['AGE'] >= 50)]"
   ]
  },
  {
   "cell_type": "markdown",
   "metadata": {},
   "source": [
    "### Characteristics of Discrete Variables"
   ]
  },
  {
   "cell_type": "code",
   "execution_count": 27,
   "metadata": {},
   "outputs": [
    {
     "data": {
      "text/plain": [
       "count    503.000000\n",
       "mean       0.069583\n",
       "std        0.254695\n",
       "min        0.000000\n",
       "25%        0.000000\n",
       "50%        0.000000\n",
       "75%        0.000000\n",
       "max        1.000000\n",
       "Name: CHAS, dtype: float64"
      ]
     },
     "execution_count": 27,
     "metadata": {},
     "output_type": "execute_result"
    }
   ],
   "source": [
    "df.CHAS.describe()"
   ]
  },
  {
   "cell_type": "code",
   "execution_count": 28,
   "metadata": {},
   "outputs": [
    {
     "data": {
      "text/plain": [
       "0    0\n",
       "dtype: int32"
      ]
     },
     "execution_count": 28,
     "metadata": {},
     "output_type": "execute_result"
    }
   ],
   "source": [
    "df.CHAS.mode()"
   ]
  },
  {
   "cell_type": "code",
   "execution_count": 29,
   "metadata": {},
   "outputs": [
    {
     "data": {
      "text/plain": [
       "count    503.000000\n",
       "mean       9.578529\n",
       "std        8.724953\n",
       "min        1.000000\n",
       "25%        4.000000\n",
       "50%        5.000000\n",
       "75%       24.000000\n",
       "max       24.000000\n",
       "Name: RAD, dtype: float64"
      ]
     },
     "execution_count": 29,
     "metadata": {},
     "output_type": "execute_result"
    }
   ],
   "source": [
    "df.RAD.describe()"
   ]
  },
  {
   "cell_type": "code",
   "execution_count": 30,
   "metadata": {},
   "outputs": [
    {
     "data": {
      "text/plain": [
       "0    24\n",
       "dtype: int32"
      ]
     },
     "execution_count": 30,
     "metadata": {},
     "output_type": "execute_result"
    }
   ],
   "source": [
    "df.RAD.mode()"
   ]
  },
  {
   "cell_type": "markdown",
   "metadata": {},
   "source": [
    "### Characteristics of Continuous Variables"
   ]
  },
  {
   "cell_type": "code",
   "execution_count": 31,
   "metadata": {},
   "outputs": [
    {
     "data": {
      "text/html": [
       "<div>\n",
       "<style scoped>\n",
       "    .dataframe tbody tr th:only-of-type {\n",
       "        vertical-align: middle;\n",
       "    }\n",
       "\n",
       "    .dataframe tbody tr th {\n",
       "        vertical-align: top;\n",
       "    }\n",
       "\n",
       "    .dataframe thead th {\n",
       "        text-align: right;\n",
       "    }\n",
       "</style>\n",
       "<table border=\"1\" class=\"dataframe\">\n",
       "  <thead>\n",
       "    <tr style=\"text-align: right;\">\n",
       "      <th></th>\n",
       "      <th>CRIM</th>\n",
       "      <th>ZN</th>\n",
       "      <th>TAX</th>\n",
       "      <th>INDUS</th>\n",
       "      <th>NOX</th>\n",
       "      <th>RM</th>\n",
       "      <th>AGE</th>\n",
       "      <th>DIS</th>\n",
       "      <th>PT</th>\n",
       "      <th>B</th>\n",
       "      <th>LSTAT</th>\n",
       "      <th>MV</th>\n",
       "    </tr>\n",
       "  </thead>\n",
       "  <tbody>\n",
       "    <tr>\n",
       "      <th>count</th>\n",
       "      <td>503.000000</td>\n",
       "      <td>503.000000</td>\n",
       "      <td>503.000000</td>\n",
       "      <td>503.000000</td>\n",
       "      <td>503.000000</td>\n",
       "      <td>503.000000</td>\n",
       "      <td>503.000000</td>\n",
       "      <td>503.000000</td>\n",
       "      <td>503.000000</td>\n",
       "      <td>503.000000</td>\n",
       "      <td>503.000000</td>\n",
       "      <td>503.000000</td>\n",
       "    </tr>\n",
       "    <tr>\n",
       "      <th>mean</th>\n",
       "      <td>3.633073</td>\n",
       "      <td>11.381710</td>\n",
       "      <td>408.825050</td>\n",
       "      <td>11.155726</td>\n",
       "      <td>0.554850</td>\n",
       "      <td>6.285050</td>\n",
       "      <td>68.437376</td>\n",
       "      <td>3.784359</td>\n",
       "      <td>18.463420</td>\n",
       "      <td>356.476380</td>\n",
       "      <td>12.629404</td>\n",
       "      <td>22.547316</td>\n",
       "    </tr>\n",
       "    <tr>\n",
       "      <th>std</th>\n",
       "      <td>8.623448</td>\n",
       "      <td>23.386422</td>\n",
       "      <td>168.867039</td>\n",
       "      <td>6.876404</td>\n",
       "      <td>0.116205</td>\n",
       "      <td>0.704633</td>\n",
       "      <td>28.173426</td>\n",
       "      <td>2.106487</td>\n",
       "      <td>2.158661</td>\n",
       "      <td>91.529523</td>\n",
       "      <td>7.147192</td>\n",
       "      <td>9.214121</td>\n",
       "    </tr>\n",
       "    <tr>\n",
       "      <th>min</th>\n",
       "      <td>0.006320</td>\n",
       "      <td>0.000000</td>\n",
       "      <td>187.000000</td>\n",
       "      <td>0.460000</td>\n",
       "      <td>0.385000</td>\n",
       "      <td>3.561000</td>\n",
       "      <td>2.900000</td>\n",
       "      <td>1.129600</td>\n",
       "      <td>12.600000</td>\n",
       "      <td>0.320000</td>\n",
       "      <td>1.730000</td>\n",
       "      <td>5.000000</td>\n",
       "    </tr>\n",
       "    <tr>\n",
       "      <th>25%</th>\n",
       "      <td>0.081930</td>\n",
       "      <td>0.000000</td>\n",
       "      <td>279.000000</td>\n",
       "      <td>5.160000</td>\n",
       "      <td>0.449000</td>\n",
       "      <td>5.884500</td>\n",
       "      <td>44.700001</td>\n",
       "      <td>2.094100</td>\n",
       "      <td>17.400000</td>\n",
       "      <td>375.269989</td>\n",
       "      <td>6.925000</td>\n",
       "      <td>17.050000</td>\n",
       "    </tr>\n",
       "    <tr>\n",
       "      <th>50%</th>\n",
       "      <td>0.259150</td>\n",
       "      <td>0.000000</td>\n",
       "      <td>330.000000</td>\n",
       "      <td>9.690000</td>\n",
       "      <td>0.538000</td>\n",
       "      <td>6.209000</td>\n",
       "      <td>77.000000</td>\n",
       "      <td>3.182700</td>\n",
       "      <td>19.100000</td>\n",
       "      <td>391.429993</td>\n",
       "      <td>11.340000</td>\n",
       "      <td>21.200001</td>\n",
       "    </tr>\n",
       "    <tr>\n",
       "      <th>75%</th>\n",
       "      <td>3.685665</td>\n",
       "      <td>12.500000</td>\n",
       "      <td>666.000000</td>\n",
       "      <td>18.100000</td>\n",
       "      <td>0.624000</td>\n",
       "      <td>6.627000</td>\n",
       "      <td>93.950001</td>\n",
       "      <td>5.118000</td>\n",
       "      <td>20.200001</td>\n",
       "      <td>396.220001</td>\n",
       "      <td>16.920000</td>\n",
       "      <td>25.000000</td>\n",
       "    </tr>\n",
       "    <tr>\n",
       "      <th>max</th>\n",
       "      <td>88.976196</td>\n",
       "      <td>100.000000</td>\n",
       "      <td>711.000000</td>\n",
       "      <td>27.740000</td>\n",
       "      <td>0.871000</td>\n",
       "      <td>8.780000</td>\n",
       "      <td>100.000000</td>\n",
       "      <td>12.126500</td>\n",
       "      <td>22.000000</td>\n",
       "      <td>396.899994</td>\n",
       "      <td>37.970001</td>\n",
       "      <td>50.000000</td>\n",
       "    </tr>\n",
       "  </tbody>\n",
       "</table>\n",
       "</div>"
      ],
      "text/plain": [
       "             CRIM          ZN         TAX       INDUS         NOX          RM  \\\n",
       "count  503.000000  503.000000  503.000000  503.000000  503.000000  503.000000   \n",
       "mean     3.633073   11.381710  408.825050   11.155726    0.554850    6.285050   \n",
       "std      8.623448   23.386422  168.867039    6.876404    0.116205    0.704633   \n",
       "min      0.006320    0.000000  187.000000    0.460000    0.385000    3.561000   \n",
       "25%      0.081930    0.000000  279.000000    5.160000    0.449000    5.884500   \n",
       "50%      0.259150    0.000000  330.000000    9.690000    0.538000    6.209000   \n",
       "75%      3.685665   12.500000  666.000000   18.100000    0.624000    6.627000   \n",
       "max     88.976196  100.000000  711.000000   27.740000    0.871000    8.780000   \n",
       "\n",
       "              AGE         DIS          PT           B       LSTAT          MV  \n",
       "count  503.000000  503.000000  503.000000  503.000000  503.000000  503.000000  \n",
       "mean    68.437376    3.784359   18.463420  356.476380   12.629404   22.547316  \n",
       "std     28.173426    2.106487    2.158661   91.529523    7.147192    9.214121  \n",
       "min      2.900000    1.129600   12.600000    0.320000    1.730000    5.000000  \n",
       "25%     44.700001    2.094100   17.400000  375.269989    6.925000   17.050000  \n",
       "50%     77.000000    3.182700   19.100000  391.429993   11.340000   21.200001  \n",
       "75%     93.950001    5.118000   20.200001  396.220001   16.920000   25.000000  \n",
       "max    100.000000   12.126500   22.000000  396.899994   37.970001   50.000000  "
      ]
     },
     "execution_count": 31,
     "metadata": {},
     "output_type": "execute_result"
    }
   ],
   "source": [
    "#  making another DataFrame using only the columns with continuous values\n",
    "df1 = df[['CRIM','ZN','TAX','INDUS','NOX','RM','AGE','DIS','PT','B','LSTAT','MV']]\n",
    "df1.describe()"
   ]
  },
  {
   "cell_type": "markdown",
   "metadata": {},
   "source": [
    "#### Percentiles"
   ]
  },
  {
   "cell_type": "code",
   "execution_count": 32,
   "metadata": {},
   "outputs": [
    {
     "data": {
      "text/plain": [
       "CRIM       0.037886\n",
       "ZN         0.000000\n",
       "TAX      233.000000\n",
       "INDUS      2.898000\n",
       "NOX        0.426400\n",
       "RM         5.593200\n",
       "AGE       26.559999\n",
       "DIS        1.625240\n",
       "PT        14.720000\n",
       "B        289.501990\n",
       "LSTAT      4.674000\n",
       "MV        12.720000\n",
       "Name: 0.1, dtype: float64"
      ]
     },
     "execution_count": 32,
     "metadata": {},
     "output_type": "execute_result"
    }
   ],
   "source": [
    "df1.quantile(0.1)     #10th percentile in each column"
   ]
  },
  {
   "cell_type": "code",
   "execution_count": 33,
   "metadata": {},
   "outputs": [
    {
     "data": {
      "text/plain": [
       "CRIM       0.063246\n",
       "ZN         0.000000\n",
       "TAX      273.000000\n",
       "INDUS      4.246000\n",
       "NOX        0.442000\n",
       "RM         5.836400\n",
       "AGE       37.499999\n",
       "DIS        1.947120\n",
       "PT        16.600000\n",
       "B        363.781995\n",
       "LSTAT      6.278000\n",
       "MV        15.340000\n",
       "Name: 0.2, dtype: float64"
      ]
     },
     "execution_count": 33,
     "metadata": {},
     "output_type": "execute_result"
    }
   ],
   "source": [
    "df1.quantile(0.2)    #20th percentile in each column"
   ]
  },
  {
   "cell_type": "code",
   "execution_count": 34,
   "metadata": {},
   "outputs": [
    {
     "data": {
      "text/plain": [
       "CRIM       0.259150\n",
       "ZN         0.000000\n",
       "TAX      330.000000\n",
       "INDUS      9.690000\n",
       "NOX        0.538000\n",
       "RM         6.209000\n",
       "AGE       77.000000\n",
       "DIS        3.182700\n",
       "PT        19.100000\n",
       "B        391.429993\n",
       "LSTAT     11.340000\n",
       "MV        21.200001\n",
       "Name: 0.5, dtype: float64"
      ]
     },
     "execution_count": 34,
     "metadata": {},
     "output_type": "execute_result"
    }
   ],
   "source": [
    "df1.quantile(0.5)   #50th percentile in each column"
   ]
  },
  {
   "cell_type": "code",
   "execution_count": 35,
   "metadata": {
    "scrolled": false
   },
   "outputs": [
    {
     "data": {
      "text/plain": [
       "CRIM       5.632250\n",
       "ZN        20.600000\n",
       "TAX      666.000000\n",
       "INDUS     18.100000\n",
       "NOX        0.669800\n",
       "RM         6.754800\n",
       "AGE       95.599998\n",
       "DIS        5.537380\n",
       "PT        20.200001\n",
       "B        396.899994\n",
       "LSTAT     18.055999\n",
       "MV        28.320000\n",
       "Name: 0.8, dtype: float64"
      ]
     },
     "execution_count": 35,
     "metadata": {},
     "output_type": "execute_result"
    }
   ],
   "source": [
    "df1.quantile(0.8)   #80th percentile in each column"
   ]
  },
  {
   "cell_type": "code",
   "execution_count": 36,
   "metadata": {},
   "outputs": [
    {
     "data": {
      "text/plain": [
       "CRIM      15.831840\n",
       "ZN        80.000000\n",
       "TAX      666.000000\n",
       "INDUS     21.889999\n",
       "NOX        0.740000\n",
       "RM         7.601000\n",
       "AGE      100.000000\n",
       "DIS        7.827800\n",
       "PT        21.000000\n",
       "B        396.899994\n",
       "LSTAT     26.815000\n",
       "MV        43.460000\n",
       "Name: 0.95, dtype: float64"
      ]
     },
     "execution_count": 36,
     "metadata": {},
     "output_type": "execute_result"
    }
   ],
   "source": [
    "df1.quantile(.95)   #95th percentile in each column"
   ]
  },
  {
   "cell_type": "markdown",
   "metadata": {},
   "source": [
    "## Graphical Analysis - Plotting"
   ]
  },
  {
   "cell_type": "markdown",
   "metadata": {},
   "source": [
    "### Univariate Plots"
   ]
  },
  {
   "cell_type": "code",
   "execution_count": 37,
   "metadata": {},
   "outputs": [
    {
     "data": {
      "text/plain": [
       "<matplotlib.axes._subplots.AxesSubplot at 0x1b9304d9160>"
      ]
     },
     "execution_count": 37,
     "metadata": {},
     "output_type": "execute_result"
    },
    {
     "data": {
      "image/png": "[encoded data removed]",
      "text/plain": [
       "<Figure size 432x288 with 1 Axes>"
      ]
     },
     "metadata": {
      "needs_background": "light"
     },
     "output_type": "display_data"
    }
   ],
   "source": [
    "sns.distplot(df['CRIM'])"
   ]
  },
  {
   "cell_type": "code",
   "execution_count": 38,
   "metadata": {},
   "outputs": [
    {
     "data": {
      "text/plain": [
       "<matplotlib.axes._subplots.AxesSubplot at 0x1b930ca7460>"
      ]
     },
     "execution_count": 38,
     "metadata": {},
     "output_type": "execute_result"
    },
    {
     "data": {
      "image/png": "[encoded data removed]",
      "text/plain": [
       "<Figure size 432x288 with 1 Axes>"
      ]
     },
     "metadata": {
      "needs_background": "light"
     },
     "output_type": "display_data"
    }
   ],
   "source": [
    "sns.distplot(df['INDUS'],kde = False)"
   ]
  },
  {
   "cell_type": "code",
   "execution_count": 39,
   "metadata": {},
   "outputs": [
    {
     "data": {
      "text/plain": [
       "<matplotlib.axes._subplots.AxesSubplot at 0x1b930d26970>"
      ]
     },
     "execution_count": 39,
     "metadata": {},
     "output_type": "execute_result"
    },
    {
     "data": {
      "image/png": "[encoded data removed]",
      "text/plain": [
       "<Figure size 432x288 with 1 Axes>"
      ]
     },
     "metadata": {
      "needs_background": "light"
     },
     "output_type": "display_data"
    }
   ],
   "source": [
    "sns.distplot(df['NOX'])"
   ]
  },
  {
   "cell_type": "code",
   "execution_count": 40,
   "metadata": {},
   "outputs": [
    {
     "data": {
      "text/plain": [
       "<matplotlib.axes._subplots.AxesSubplot at 0x1b930dab2e0>"
      ]
     },
     "execution_count": 40,
     "metadata": {},
     "output_type": "execute_result"
    },
    {
     "data": {
      "image/png": "[encoded data removed]",
      "text/plain": [
       "<Figure size 432x288 with 1 Axes>"
      ]
     },
     "metadata": {
      "needs_background": "light"
     },
     "output_type": "display_data"
    }
   ],
   "source": [
    "sns.distplot(df['RM'])"
   ]
  },
  {
   "cell_type": "code",
   "execution_count": 41,
   "metadata": {},
   "outputs": [
    {
     "data": {
      "text/plain": [
       "<matplotlib.axes._subplots.AxesSubplot at 0x1b930e4efa0>"
      ]
     },
     "execution_count": 41,
     "metadata": {},
     "output_type": "execute_result"
    },
    {
     "data": {
      "image/png": "[encoded data removed]",
      "text/plain": [
       "<Figure size 432x288 with 1 Axes>"
      ]
     },
     "metadata": {
      "needs_background": "light"
     },
     "output_type": "display_data"
    }
   ],
   "source": [
    "sns.distplot(df['AGE'], kde = False)   #plotting distribution without curve"
   ]
  },
  {
   "cell_type": "code",
   "execution_count": 42,
   "metadata": {},
   "outputs": [
    {
     "data": {
      "text/plain": [
       "<matplotlib.axes._subplots.AxesSubplot at 0x1b930eb3550>"
      ]
     },
     "execution_count": 42,
     "metadata": {},
     "output_type": "execute_result"
    },
    {
     "data": {
      "image/png": "[encoded data removed]",
      "text/plain": [
       "<Figure size 432x288 with 1 Axes>"
      ]
     },
     "metadata": {
      "needs_background": "light"
     },
     "output_type": "display_data"
    }
   ],
   "source": [
    "sns.distplot(df['DIS'])"
   ]
  },
  {
   "cell_type": "code",
   "execution_count": 43,
   "metadata": {},
   "outputs": [
    {
     "data": {
      "text/plain": [
       "<matplotlib.axes._subplots.AxesSubplot at 0x1b930f1dfa0>"
      ]
     },
     "execution_count": 43,
     "metadata": {},
     "output_type": "execute_result"
    },
    {
     "data": {
      "image/png": "[encoded data removed]",
      "text/plain": [
       "<Figure size 432x288 with 1 Axes>"
      ]
     },
     "metadata": {
      "needs_background": "light"
     },
     "output_type": "display_data"
    }
   ],
   "source": [
    "sns.distplot(df['PT'],kde = False)   # plotting distribution without curve"
   ]
  },
  {
   "cell_type": "code",
   "execution_count": 44,
   "metadata": {},
   "outputs": [
    {
     "data": {
      "text/plain": [
       "<matplotlib.axes._subplots.AxesSubplot at 0x1b930fb12e0>"
      ]
     },
     "execution_count": 44,
     "metadata": {},
     "output_type": "execute_result"
    },
    {
     "data": {
      "image/png": "[encoded data removed]",
      "text/plain": [
       "<Figure size 432x288 with 1 Axes>"
      ]
     },
     "metadata": {
      "needs_background": "light"
     },
     "output_type": "display_data"
    }
   ],
   "source": [
    "sns.distplot(df['B'])"
   ]
  },
  {
   "cell_type": "code",
   "execution_count": 45,
   "metadata": {},
   "outputs": [
    {
     "data": {
      "text/plain": [
       "<matplotlib.axes._subplots.AxesSubplot at 0x1b9310814c0>"
      ]
     },
     "execution_count": 45,
     "metadata": {},
     "output_type": "execute_result"
    },
    {
     "data": {
      "image/png": "[encoded data removed]",
      "text/plain": [
       "<Figure size 432x288 with 1 Axes>"
      ]
     },
     "metadata": {
      "needs_background": "light"
     },
     "output_type": "display_data"
    }
   ],
   "source": [
    "sns.distplot(df['LSTAT'])"
   ]
  },
  {
   "cell_type": "code",
   "execution_count": 46,
   "metadata": {},
   "outputs": [
    {
     "data": {
      "text/plain": [
       "<matplotlib.axes._subplots.AxesSubplot at 0x1b931100a00>"
      ]
     },
     "execution_count": 46,
     "metadata": {},
     "output_type": "execute_result"
    },
    {
     "data": {
      "image/png": "[encoded data removed]",
      "text/plain": [
       "<Figure size 432x288 with 1 Axes>"
      ]
     },
     "metadata": {
      "needs_background": "light"
     },
     "output_type": "display_data"
    }
   ],
   "source": [
    "sns.distplot(df['MV'])"
   ]
  },
  {
   "cell_type": "code",
   "execution_count": 47,
   "metadata": {},
   "outputs": [
    {
     "data": {
      "text/plain": [
       "<matplotlib.axes._subplots.AxesSubplot at 0x1b931197310>"
      ]
     },
     "execution_count": 47,
     "metadata": {},
     "output_type": "execute_result"
    },
    {
     "data": {
      "image/png": "[encoded data removed]",
      "text/plain": [
       "<Figure size 432x288 with 1 Axes>"
      ]
     },
     "metadata": {
      "needs_background": "light"
     },
     "output_type": "display_data"
    }
   ],
   "source": [
    "sns.distplot(df['ZN']) "
   ]
  },
  {
   "cell_type": "code",
   "execution_count": 48,
   "metadata": {},
   "outputs": [
    {
     "data": {
      "text/plain": [
       "<matplotlib.axes._subplots.AxesSubplot at 0x1b930f0eb50>"
      ]
     },
     "execution_count": 48,
     "metadata": {},
     "output_type": "execute_result"
    },
    {
     "data": {
      "image/png": "[encoded data removed]",
      "text/plain": [
       "<Figure size 432x288 with 1 Axes>"
      ]
     },
     "metadata": {
      "needs_background": "light"
     },
     "output_type": "display_data"
    }
   ],
   "source": [
    "sns.distplot(df['TAX'],kde = False)"
   ]
  },
  {
   "cell_type": "code",
   "execution_count": 49,
   "metadata": {
    "scrolled": true
   },
   "outputs": [
    {
     "data": {
      "text/plain": [
       "<matplotlib.axes._subplots.AxesSubplot at 0x1b931278d00>"
      ]
     },
     "execution_count": 49,
     "metadata": {},
     "output_type": "execute_result"
    },
    {
     "data": {
      "image/png": "[encoded data removed]",
      "text/plain": [
       "<Figure size 432x288 with 1 Axes>"
      ]
     },
     "metadata": {
      "needs_background": "light"
     },
     "output_type": "display_data"
    }
   ],
   "source": [
    "sns.countplot(df['CHAS'])"
   ]
  },
  {
   "cell_type": "code",
   "execution_count": 50,
   "metadata": {},
   "outputs": [
    {
     "data": {
      "text/plain": [
       "<matplotlib.axes._subplots.AxesSubplot at 0x1b9312a66d0>"
      ]
     },
     "execution_count": 50,
     "metadata": {},
     "output_type": "execute_result"
    },
    {
     "data": {
      "image/png": "[encoded data removed]",
      "text/plain": [
       "<Figure size 432x288 with 1 Axes>"
      ]
     },
     "metadata": {
      "needs_background": "light"
     },
     "output_type": "display_data"
    }
   ],
   "source": [
    "sns.countplot(df['RAD'])"
   ]
  },
  {
   "cell_type": "markdown",
   "metadata": {},
   "source": [
    "### Bivariate Plots"
   ]
  },
  {
   "cell_type": "code",
   "execution_count": 51,
   "metadata": {},
   "outputs": [
    {
     "data": {
      "text/plain": [
       "<seaborn.axisgrid.FacetGrid at 0x1b9312f5880>"
      ]
     },
     "execution_count": 51,
     "metadata": {},
     "output_type": "execute_result"
    },
    {
     "data": {
      "image/png": "[encoded data removed]",
      "text/plain": [
       "<Figure size 360x360 with 1 Axes>"
      ]
     },
     "metadata": {
      "needs_background": "light"
     },
     "output_type": "display_data"
    }
   ],
   "source": [
    "sns.lmplot(x = 'ZN',y = 'TAX',data = df)"
   ]
  },
  {
   "cell_type": "code",
   "execution_count": 52,
   "metadata": {},
   "outputs": [
    {
     "data": {
      "text/plain": [
       "<seaborn.axisgrid.FacetGrid at 0x1b93139e220>"
      ]
     },
     "execution_count": 52,
     "metadata": {},
     "output_type": "execute_result"
    },
    {
     "data": {
      "image/png": "[encoded data removed]",
      "text/plain": [
       "<Figure size 360x360 with 1 Axes>"
      ]
     },
     "metadata": {
      "needs_background": "light"
     },
     "output_type": "display_data"
    }
   ],
   "source": [
    "sns.lmplot(x = 'RM',y = 'DIS',data = df)"
   ]
  },
  {
   "cell_type": "markdown",
   "metadata": {},
   "source": [
    "### Boxplots"
   ]
  },
  {
   "cell_type": "code",
   "execution_count": 53,
   "metadata": {},
   "outputs": [
    {
     "data": {
      "text/plain": [
       "<matplotlib.axes._subplots.AxesSubplot at 0x1b9313f7a90>"
      ]
     },
     "execution_count": 53,
     "metadata": {},
     "output_type": "execute_result"
    },
    {
     "data": {
      "image/png": "[encoded data removed]",
      "text/plain": [
       "<Figure size 432x288 with 1 Axes>"
      ]
     },
     "metadata": {
      "needs_background": "light"
     },
     "output_type": "display_data"
    }
   ],
   "source": [
    "sns.boxplot(df['CRIM'])"
   ]
  },
  {
   "cell_type": "code",
   "execution_count": 54,
   "metadata": {},
   "outputs": [
    {
     "data": {
      "text/plain": [
       "<matplotlib.axes._subplots.AxesSubplot at 0x1b93241a1f0>"
      ]
     },
     "execution_count": 54,
     "metadata": {},
     "output_type": "execute_result"
    },
    {
     "data": {
      "image/png": "[encoded data removed]",
      "text/plain": [
       "<Figure size 432x288 with 1 Axes>"
      ]
     },
     "metadata": {
      "needs_background": "light"
     },
     "output_type": "display_data"
    }
   ],
   "source": [
    "sns.boxplot(df['ZN'])"
   ]
  },
  {
   "cell_type": "code",
   "execution_count": 55,
   "metadata": {},
   "outputs": [
    {
     "data": {
      "text/plain": [
       "<matplotlib.axes._subplots.AxesSubplot at 0x1b932465850>"
      ]
     },
     "execution_count": 55,
     "metadata": {},
     "output_type": "execute_result"
    },
    {
     "data": {
      "image/png": "[encoded data removed]",
      "text/plain": [
       "<Figure size 432x288 with 1 Axes>"
      ]
     },
     "metadata": {
      "needs_background": "light"
     },
     "output_type": "display_data"
    }
   ],
   "source": [
    "sns.boxplot(df['TAX'])"
   ]
  },
  {
   "cell_type": "code",
   "execution_count": 56,
   "metadata": {},
   "outputs": [
    {
     "data": {
      "text/plain": [
       "<matplotlib.axes._subplots.AxesSubplot at 0x1b9324cc7f0>"
      ]
     },
     "execution_count": 56,
     "metadata": {},
     "output_type": "execute_result"
    },
    {
     "data": {
      "image/png": "[encoded data removed]",
      "text/plain": [
       "<Figure size 432x288 with 1 Axes>"
      ]
     },
     "metadata": {
      "needs_background": "light"
     },
     "output_type": "display_data"
    }
   ],
   "source": [
    "sns.boxplot(df['INDUS'])"
   ]
  },
  {
   "cell_type": "code",
   "execution_count": 57,
   "metadata": {},
   "outputs": [
    {
     "data": {
      "text/plain": [
       "<matplotlib.axes._subplots.AxesSubplot at 0x1b932522c70>"
      ]
     },
     "execution_count": 57,
     "metadata": {},
     "output_type": "execute_result"
    },
    {
     "data": {
      "image/png": "[encoded data removed]",
      "text/plain": [
       "<Figure size 432x288 with 1 Axes>"
      ]
     },
     "metadata": {
      "needs_background": "light"
     },
     "output_type": "display_data"
    }
   ],
   "source": [
    "sns.boxplot(df['NOX'])"
   ]
  },
  {
   "cell_type": "code",
   "execution_count": 58,
   "metadata": {},
   "outputs": [
    {
     "data": {
      "text/plain": [
       "<matplotlib.axes._subplots.AxesSubplot at 0x1b932577640>"
      ]
     },
     "execution_count": 58,
     "metadata": {},
     "output_type": "execute_result"
    },
    {
     "data": {
      "image/png": "[encoded data removed]",
      "text/plain": [
       "<Figure size 432x288 with 1 Axes>"
      ]
     },
     "metadata": {
      "needs_background": "light"
     },
     "output_type": "display_data"
    }
   ],
   "source": [
    "sns.boxplot(df['RM'])"
   ]
  },
  {
   "cell_type": "code",
   "execution_count": 59,
   "metadata": {},
   "outputs": [
    {
     "data": {
      "text/plain": [
       "<matplotlib.axes._subplots.AxesSubplot at 0x1b9325bf850>"
      ]
     },
     "execution_count": 59,
     "metadata": {},
     "output_type": "execute_result"
    },
    {
     "data": {
      "image/png": "[encoded data removed]",
      "text/plain": [
       "<Figure size 432x288 with 1 Axes>"
      ]
     },
     "metadata": {
      "needs_background": "light"
     },
     "output_type": "display_data"
    }
   ],
   "source": [
    "sns.boxplot(df['AGE'])"
   ]
  },
  {
   "cell_type": "code",
   "execution_count": 60,
   "metadata": {},
   "outputs": [
    {
     "data": {
      "text/plain": [
       "<matplotlib.axes._subplots.AxesSubplot at 0x1b9326148e0>"
      ]
     },
     "execution_count": 60,
     "metadata": {},
     "output_type": "execute_result"
    },
    {
     "data": {
      "image/png": "[encoded data removed]",
      "text/plain": [
       "<Figure size 432x288 with 1 Axes>"
      ]
     },
     "metadata": {
      "needs_background": "light"
     },
     "output_type": "display_data"
    }
   ],
   "source": [
    "sns.boxplot(df['DIS'])"
   ]
  },
  {
   "cell_type": "code",
   "execution_count": 61,
   "metadata": {},
   "outputs": [
    {
     "data": {
      "text/plain": [
       "<matplotlib.axes._subplots.AxesSubplot at 0x1b93266ae20>"
      ]
     },
     "execution_count": 61,
     "metadata": {},
     "output_type": "execute_result"
    },
    {
     "data": {
      "image/png": "[encoded data removed]",
      "text/plain": [
       "<Figure size 432x288 with 1 Axes>"
      ]
     },
     "metadata": {
      "needs_background": "light"
     },
     "output_type": "display_data"
    }
   ],
   "source": [
    "sns.boxplot(df['PT'])"
   ]
  },
  {
   "cell_type": "code",
   "execution_count": 62,
   "metadata": {},
   "outputs": [
    {
     "data": {
      "text/plain": [
       "<matplotlib.axes._subplots.AxesSubplot at 0x1b9326cc340>"
      ]
     },
     "execution_count": 62,
     "metadata": {},
     "output_type": "execute_result"
    },
    {
     "data": {
      "image/png": "[encoded data removed]",
      "text/plain": [
       "<Figure size 432x288 with 1 Axes>"
      ]
     },
     "metadata": {
      "needs_background": "light"
     },
     "output_type": "display_data"
    }
   ],
   "source": [
    "sns.boxplot(df['B'])"
   ]
  },
  {
   "cell_type": "code",
   "execution_count": 63,
   "metadata": {},
   "outputs": [
    {
     "data": {
      "text/plain": [
       "<matplotlib.axes._subplots.AxesSubplot at 0x1b9327121f0>"
      ]
     },
     "execution_count": 63,
     "metadata": {},
     "output_type": "execute_result"
    },
    {
     "data": {
      "image/png": "[encoded data removed]",
      "text/plain": [
       "<Figure size 432x288 with 1 Axes>"
      ]
     },
     "metadata": {
      "needs_background": "light"
     },
     "output_type": "display_data"
    }
   ],
   "source": [
    "sns.boxplot(df['LSTAT'])"
   ]
  },
  {
   "cell_type": "code",
   "execution_count": 64,
   "metadata": {},
   "outputs": [
    {
     "data": {
      "text/plain": [
       "<matplotlib.axes._subplots.AxesSubplot at 0x1b9312bbdf0>"
      ]
     },
     "execution_count": 64,
     "metadata": {},
     "output_type": "execute_result"
    },
    {
     "data": {
      "image/png": "[encoded data removed]",
      "text/plain": [
       "<Figure size 432x288 with 1 Axes>"
      ]
     },
     "metadata": {
      "needs_background": "light"
     },
     "output_type": "display_data"
    }
   ],
   "source": [
    "sns.boxplot(df['MV'])"
   ]
  },
  {
   "cell_type": "markdown",
   "metadata": {},
   "source": [
    "## Normalizing Data"
   ]
  },
  {
   "cell_type": "code",
   "execution_count": 65,
   "metadata": {},
   "outputs": [
    {
     "data": {
      "text/html": [
       "<div>\n",
       "<style scoped>\n",
       "    .dataframe tbody tr th:only-of-type {\n",
       "        vertical-align: middle;\n",
       "    }\n",
       "\n",
       "    .dataframe tbody tr th {\n",
       "        vertical-align: top;\n",
       "    }\n",
       "\n",
       "    .dataframe thead th {\n",
       "        text-align: right;\n",
       "    }\n",
       "</style>\n",
       "<table border=\"1\" class=\"dataframe\">\n",
       "  <thead>\n",
       "    <tr style=\"text-align: right;\">\n",
       "      <th></th>\n",
       "      <th>CRIM</th>\n",
       "      <th>ZN</th>\n",
       "      <th>INDUS</th>\n",
       "      <th>CHAS</th>\n",
       "      <th>NOX</th>\n",
       "      <th>RM</th>\n",
       "      <th>AGE</th>\n",
       "      <th>DIS</th>\n",
       "      <th>RAD</th>\n",
       "      <th>TAX</th>\n",
       "      <th>PT</th>\n",
       "      <th>B</th>\n",
       "      <th>LSTAT</th>\n",
       "      <th>MV</th>\n",
       "    </tr>\n",
       "  </thead>\n",
       "  <tbody>\n",
       "    <tr>\n",
       "      <th>0</th>\n",
       "      <td>0.000000</td>\n",
       "      <td>0.18</td>\n",
       "      <td>0.067815</td>\n",
       "      <td>0.0</td>\n",
       "      <td>0.314815</td>\n",
       "      <td>0.577505</td>\n",
       "      <td>0.641607</td>\n",
       "      <td>0.269203</td>\n",
       "      <td>0.000000</td>\n",
       "      <td>0.208015</td>\n",
       "      <td>0.287234</td>\n",
       "      <td>1.000000</td>\n",
       "      <td>0.089680</td>\n",
       "      <td>24.000000</td>\n",
       "    </tr>\n",
       "    <tr>\n",
       "      <th>1</th>\n",
       "      <td>0.000236</td>\n",
       "      <td>0.00</td>\n",
       "      <td>0.242302</td>\n",
       "      <td>0.0</td>\n",
       "      <td>0.172840</td>\n",
       "      <td>0.547998</td>\n",
       "      <td>0.782698</td>\n",
       "      <td>0.348962</td>\n",
       "      <td>0.043478</td>\n",
       "      <td>0.104962</td>\n",
       "      <td>0.553191</td>\n",
       "      <td>1.000000</td>\n",
       "      <td>0.204470</td>\n",
       "      <td>21.600000</td>\n",
       "    </tr>\n",
       "    <tr>\n",
       "      <th>2</th>\n",
       "      <td>0.000236</td>\n",
       "      <td>0.00</td>\n",
       "      <td>0.242302</td>\n",
       "      <td>0.0</td>\n",
       "      <td>0.172840</td>\n",
       "      <td>0.694386</td>\n",
       "      <td>0.599382</td>\n",
       "      <td>0.348962</td>\n",
       "      <td>0.043478</td>\n",
       "      <td>0.104962</td>\n",
       "      <td>0.553191</td>\n",
       "      <td>0.989737</td>\n",
       "      <td>0.063466</td>\n",
       "      <td>34.700001</td>\n",
       "    </tr>\n",
       "    <tr>\n",
       "      <th>3</th>\n",
       "      <td>0.000293</td>\n",
       "      <td>0.00</td>\n",
       "      <td>0.063050</td>\n",
       "      <td>0.0</td>\n",
       "      <td>0.150206</td>\n",
       "      <td>0.658555</td>\n",
       "      <td>0.441813</td>\n",
       "      <td>0.448545</td>\n",
       "      <td>0.086957</td>\n",
       "      <td>0.066794</td>\n",
       "      <td>0.648936</td>\n",
       "      <td>0.994276</td>\n",
       "      <td>0.033389</td>\n",
       "      <td>33.400002</td>\n",
       "    </tr>\n",
       "    <tr>\n",
       "      <th>4</th>\n",
       "      <td>0.000705</td>\n",
       "      <td>0.00</td>\n",
       "      <td>0.063050</td>\n",
       "      <td>0.0</td>\n",
       "      <td>0.150206</td>\n",
       "      <td>0.687105</td>\n",
       "      <td>0.528321</td>\n",
       "      <td>0.448545</td>\n",
       "      <td>0.086957</td>\n",
       "      <td>0.066794</td>\n",
       "      <td>0.648936</td>\n",
       "      <td>1.000000</td>\n",
       "      <td>0.099338</td>\n",
       "      <td>36.200001</td>\n",
       "    </tr>\n",
       "  </tbody>\n",
       "</table>\n",
       "</div>"
      ],
      "text/plain": [
       "       CRIM    ZN     INDUS  CHAS       NOX        RM       AGE       DIS  \\\n",
       "0  0.000000  0.18  0.067815   0.0  0.314815  0.577505  0.641607  0.269203   \n",
       "1  0.000236  0.00  0.242302   0.0  0.172840  0.547998  0.782698  0.348962   \n",
       "2  0.000236  0.00  0.242302   0.0  0.172840  0.694386  0.599382  0.348962   \n",
       "3  0.000293  0.00  0.063050   0.0  0.150206  0.658555  0.441813  0.448545   \n",
       "4  0.000705  0.00  0.063050   0.0  0.150206  0.687105  0.528321  0.448545   \n",
       "\n",
       "        RAD       TAX        PT         B     LSTAT         MV  \n",
       "0  0.000000  0.208015  0.287234  1.000000  0.089680  24.000000  \n",
       "1  0.043478  0.104962  0.553191  1.000000  0.204470  21.600000  \n",
       "2  0.043478  0.104962  0.553191  0.989737  0.063466  34.700001  \n",
       "3  0.086957  0.066794  0.648936  0.994276  0.033389  33.400002  \n",
       "4  0.086957  0.066794  0.648936  1.000000  0.099338  36.200001  "
      ]
     },
     "execution_count": 65,
     "metadata": {},
     "output_type": "execute_result"
    }
   ],
   "source": [
    "col = list(df.columns)\n",
    "col.remove('MV')                   #   removing the TARGET variable from the list of columns to be normalized\n",
    "for x in col:\n",
    "    df[x] = (df[x] - df[x].min()) / (df[x].max() - df[x].min())\n",
    "df.head()                          #                   "
   ]
  },
  {
   "cell_type": "markdown",
   "metadata": {},
   "source": [
    "## Importing Models and Accuracy Metrics"
   ]
  },
  {
   "cell_type": "code",
   "execution_count": 66,
   "metadata": {},
   "outputs": [],
   "source": [
    "from sklearn.model_selection import train_test_split           #  for splitting dataset\n",
    "\n",
    "from sklearn import linear_model                               #  for Simple Linear and Lasso regression\n",
    "from sklearn.linear_model import SGDRegressor                  #  for Ridge regression\n",
    "from sklearn.neighbors import KNeighborsRegressor              #  for KNN regression\n",
    "\n",
    "from sklearn.metrics import mean_squared_error,r2_score        #  for model accuracy metrics           "
   ]
  },
  {
   "cell_type": "markdown",
   "metadata": {},
   "source": [
    "# Linear Regression Model"
   ]
  },
  {
   "cell_type": "code",
   "execution_count": 67,
   "metadata": {},
   "outputs": [],
   "source": [
    "training_features = ['CRIM', 'ZN', 'INDUS', 'NOX', 'RM', 'AGE', 'RAD', 'TAX', 'PT', 'LSTAT', 'DIS']\n",
    "target = ['MV']\n",
    "results = dict()\n",
    "\n",
    "# best features were selected based on several trials to get a better model\n",
    "\n",
    "model = linear_model.LinearRegression()"
   ]
  },
  {
   "cell_type": "markdown",
   "metadata": {},
   "source": [
    "### 75-25 Split"
   ]
  },
  {
   "cell_type": "code",
   "execution_count": 68,
   "metadata": {},
   "outputs": [
    {
     "name": "stdout",
     "output_type": "stream",
     "text": [
      "Mean squared error: 18.79\n",
      "R square error: 0.81\n"
     ]
    }
   ],
   "source": [
    "X_train,X_test,Y_train,Y_test = train_test_split(df[training_features],df[target],\n",
    "                                                 test_size = 0.25, random_state = 26)\n",
    "\n",
    "model.fit(X_train, Y_train)\n",
    "\n",
    "predicted = model.predict(X_test)\n",
    "\n",
    "a = mean_squared_error(Y_test,predicted)\n",
    "b = r2_score(Y_test,predicted)\n",
    "print('Mean squared error: %.2f' %a)\n",
    "print('R square error: %.2f' %b)\n",
    "results.update({str(model)+' 0.25 Test' : b})"
   ]
  },
  {
   "cell_type": "markdown",
   "metadata": {},
   "source": [
    "### 80-20 Split"
   ]
  },
  {
   "cell_type": "code",
   "execution_count": 69,
   "metadata": {},
   "outputs": [
    {
     "name": "stdout",
     "output_type": "stream",
     "text": [
      "Mean squared error: 18.79\n",
      "R square error: 0.81\n"
     ]
    }
   ],
   "source": [
    "X_train,X_test,Y_train,Y_test = train_test_split(df[training_features],df[target],\n",
    "                                                 test_size = 0.25, random_state = 26)\n",
    "\n",
    "model.fit(X_train, Y_train)\n",
    "\n",
    "predicted = model.predict(X_test)\n",
    "\n",
    "a = mean_squared_error(Y_test,predicted)\n",
    "b = r2_score(Y_test,predicted)\n",
    "print('Mean squared error: %.2f' %a)\n",
    "print('R square error: %.2f' %b)\n",
    "results.update({str(model)+' 0.20 Test' : b})"
   ]
  },
  {
   "cell_type": "markdown",
   "metadata": {},
   "source": [
    "### 90-10 Split"
   ]
  },
  {
   "cell_type": "code",
   "execution_count": 70,
   "metadata": {},
   "outputs": [
    {
     "name": "stdout",
     "output_type": "stream",
     "text": [
      "Mean squared error: 18.79\n",
      "R square error: 0.81\n"
     ]
    }
   ],
   "source": [
    "X_train,X_test,Y_train,Y_test = train_test_split(df[training_features],df[target],\n",
    "                                                 test_size = 0.25, random_state = 26)\n",
    "\n",
    "model.fit(X_train, Y_train)\n",
    "\n",
    "predicted = model.predict(X_test)\n",
    "\n",
    "a = mean_squared_error(Y_test,predicted)\n",
    "b = r2_score(Y_test,predicted)\n",
    "print('Mean squared error: %.2f' %a)\n",
    "print('R square error: %.2f' %b)\n",
    "results.update({str(model)+' 0.10 Test' : b})"
   ]
  },
  {
   "cell_type": "markdown",
   "metadata": {},
   "source": [
    "# Ridge Regression"
   ]
  },
  {
   "cell_type": "code",
   "execution_count": 71,
   "metadata": {},
   "outputs": [],
   "source": [
    "model = linear_model.Ridge(alpha = 10)"
   ]
  },
  {
   "cell_type": "code",
   "execution_count": 72,
   "metadata": {},
   "outputs": [
    {
     "name": "stdout",
     "output_type": "stream",
     "text": [
      "Mean squared error: 10.34\n",
      "R square error: 0.83\n"
     ]
    }
   ],
   "source": [
    "X_train,X_test,Y_train,Y_test = train_test_split(df[col],df[target],\n",
    "                                                 test_size = 0.1, random_state = 67)\n",
    "\n",
    "model.fit(X_train, Y_train)\n",
    "\n",
    "predicted = model.predict(X_test)\n",
    "\n",
    "a = mean_squared_error(Y_test,predicted)\n",
    "b = r2_score(Y_test,predicted)\n",
    "print('Mean squared error: %.2f' %a)\n",
    "print('R square error: %.2f' %b)\n",
    "results.update({str(model) : b})"
   ]
  },
  {
   "cell_type": "markdown",
   "metadata": {},
   "source": [
    "# Lasso Regression"
   ]
  },
  {
   "cell_type": "code",
   "execution_count": 73,
   "metadata": {},
   "outputs": [],
   "source": [
    "model = linear_model.Lasso(alpha = 1)"
   ]
  },
  {
   "cell_type": "code",
   "execution_count": 74,
   "metadata": {},
   "outputs": [
    {
     "name": "stdout",
     "output_type": "stream",
     "text": [
      "Mean squared error: 87.25\n",
      "R square error: 0.19\n"
     ]
    }
   ],
   "source": [
    "#   taking all columns for this model as it will indicate which variables will be useful for prediction\n",
    "\n",
    "X_train,X_test,Y_train,Y_test = train_test_split(df[col],df[target],\n",
    "                                                 test_size = 0.2, random_state = 65)\n",
    "\n",
    "model.fit(X_train, Y_train)\n",
    "\n",
    "predicted = model.predict(X_test)\n",
    "\n",
    "a = mean_squared_error(Y_test,predicted)\n",
    "b = r2_score(Y_test,predicted)\n",
    "print('Mean squared error: %.2f' %a)\n",
    "print('R square error: %.2f' %b)\n",
    "results.update({str(model) : b})"
   ]
  },
  {
   "cell_type": "code",
   "execution_count": 75,
   "metadata": {},
   "outputs": [
    {
     "name": "stdout",
     "output_type": "stream",
     "text": [
      "Coefficients: \n",
      " [-0.          0.         -0.          0.         -0.          0.\n",
      " -0.          0.         -0.         -2.38244446 -0.          0.\n",
      " -5.38322131]\n",
      "Intercept: \n",
      " [25.16462304]\n"
     ]
    }
   ],
   "source": [
    "#   printing coefficients for training variables and intercept\n",
    "print(\"Coefficients: \\n\",model.coef_)\n",
    "print(\"Intercept: \\n\",model.intercept_)"
   ]
  },
  {
   "cell_type": "code",
   "execution_count": 76,
   "metadata": {},
   "outputs": [],
   "source": [
    "#   coefficients of all training variables are 0 excpet for TAX and LSTAT\n",
    "#   thus TAX and LSTAT are the variables required for MV prediction\n",
    "#   plotting bivariate plots to show trend"
   ]
  },
  {
   "cell_type": "code",
   "execution_count": 77,
   "metadata": {},
   "outputs": [
    {
     "data": {
      "text/plain": [
       "<seaborn.axisgrid.FacetGrid at 0x1b932c4b880>"
      ]
     },
     "execution_count": 77,
     "metadata": {},
     "output_type": "execute_result"
    },
    {
     "data": {
      "image/png": "[encoded data removed]",
      "text/plain": [
       "<Figure size 360x360 with 1 Axes>"
      ]
     },
     "metadata": {
      "needs_background": "light"
     },
     "output_type": "display_data"
    }
   ],
   "source": [
    "sns.lmplot(y = 'MV', x = 'TAX', data = df1)      #   MV variation with TAX"
   ]
  },
  {
   "cell_type": "code",
   "execution_count": 78,
   "metadata": {},
   "outputs": [
    {
     "data": {
      "text/plain": [
       "<seaborn.axisgrid.FacetGrid at 0x1b93350b520>"
      ]
     },
     "execution_count": 78,
     "metadata": {},
     "output_type": "execute_result"
    },
    {
     "data": {
      "image/png": "[encoded data removed]",
      "text/plain": [
       "<Figure size 360x360 with 1 Axes>"
      ]
     },
     "metadata": {
      "needs_background": "light"
     },
     "output_type": "display_data"
    }
   ],
   "source": [
    "sns.lmplot(y = 'MV', x = 'LSTAT', data = df1)     #   MV variation with LSTAT "
   ]
  },
  {
   "cell_type": "markdown",
   "metadata": {},
   "source": [
    "## KNN Regression"
   ]
  },
  {
   "cell_type": "code",
   "execution_count": 79,
   "metadata": {},
   "outputs": [],
   "source": [
    "model = KNeighborsRegressor(n_neighbors = 7,p = 1,weights = 'distance')"
   ]
  },
  {
   "cell_type": "code",
   "execution_count": 80,
   "metadata": {},
   "outputs": [
    {
     "name": "stdout",
     "output_type": "stream",
     "text": [
      "Mean squared error: 18.93\n",
      "R square error: 0.81\n"
     ]
    }
   ],
   "source": [
    "X_train,X_test,Y_train,Y_test = train_test_split(df[training_features],df[target],\n",
    "                                                 test_size = 0.25, random_state = 26)\n",
    "\n",
    "model.fit(X_train, Y_train)\n",
    "\n",
    "predicted = model.predict(X_test)\n",
    "\n",
    "a = mean_squared_error(Y_test,predicted)\n",
    "b = r2_score(Y_test,predicted)\n",
    "print('Mean squared error: %.2f' %a)\n",
    "print('R square error: %.2f' %b)\n",
    "results.update({str(model) : b})"
   ]
  },
  {
   "cell_type": "markdown",
   "metadata": {},
   "source": [
    "## R score for models"
   ]
  },
  {
   "cell_type": "code",
   "execution_count": 81,
   "metadata": {},
   "outputs": [
    {
     "name": "stdout",
     "output_type": "stream",
     "text": [
      "R score for different models:\n",
      "\n",
      "LinearRegression() 0.25 Test  :  0.8070196818812367\n",
      "LinearRegression() 0.20 Test  :  0.8070196818812367\n",
      "LinearRegression() 0.10 Test  :  0.8070196818812367\n",
      "Ridge(alpha=10)  :  0.8278430917636593\n",
      "Lasso(alpha=1)  :  0.185753850744089\n",
      "KNeighborsRegressor(n_neighbors=7, p=1, weights='distance')  :  0.8056642959715778\n"
     ]
    }
   ],
   "source": [
    "print('R score for different models:\\n')\n",
    "for key in results:\n",
    "    print(key,' : ',results[key])"
   ]
  }
 ],
 "metadata": {
  "kernelspec": {
   "display_name": "Python 3",
   "language": "python",
   "name": "python3"
  },
  "language_info": {
   "codemirror_mode": {
    "name": "ipython",
    "version": 3
   },
   "file_extension": ".py",
   "mimetype": "text/x-python",
   "name": "python",
   "nbconvert_exporter": "python",
   "pygments_lexer": "ipython3",
   "version": "3.8.3"
  }
 },
 "nbformat": 4,
 "nbformat_minor": 4
}
